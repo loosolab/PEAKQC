{
 "cells": [
  {
   "cell_type": "markdown",
   "id": "3bba5d62",
   "metadata": {},
   "source": [
    "# Experimental FLD scoring "
   ]
  },
  {
   "cell_type": "code",
   "execution_count": 10,
   "id": "c29980b5",
   "metadata": {},
   "outputs": [],
   "source": [
    "import scanpy as sc\n",
    "import numpy as np\n",
    "import pandas as pd\n",
    "\n",
    "from peakqc.fld_scoring import *\n",
    "import peakqc.insertsizes as ins"
   ]
  },
  {
   "cell_type": "code",
   "execution_count": 11,
   "id": "a878e6ce",
   "metadata": {},
   "outputs": [],
   "source": [
    "fragments_file = \"/mnt/workspace2/jdetlef/data/public_data/fragments_heart_left_ventricle_194_sorted.bed\"\n",
    "h5ad_file = \"/mnt/workspace2/jdetlef/data/public_data/heart_lv_SM-JF1NY.h5ad\"\n",
    "bamfile = \"/mnt/workspace2/jdetlef/data/public_data/sorted_heart_left_ventricle_194.bam\""
   ]
  },
  {
   "cell_type": "code",
   "execution_count": 12,
   "id": "114c2c4e",
   "metadata": {},
   "outputs": [],
   "source": [
    "#fragments_file = \"/mnt/workspace2/jdetlef/repos/PEAK_QC/tests/data/fld_scoring_related/mm10_atac_fragments.bed\"\n",
    "#bamfile = \"/mnt/workspace2/jdetlef/repos/PEAK_QC/tests/data/fld_scoring_related/mm10_atac.bam\"\n",
    "#h5ad_file = \"/mnt/workspace2/jdetlef/repos/PEAK_QC/tests/data/fld_scoring_related/mm10_atac.h5ad\""
   ]
  },
  {
   "cell_type": "code",
   "execution_count": 13,
   "id": "f3782073",
   "metadata": {},
   "outputs": [],
   "source": [
    "barcodes = adata.obs.index.to_list()"
   ]
  },
  {
   "cell_type": "code",
   "execution_count": 14,
   "id": "19970e24",
   "metadata": {},
   "outputs": [],
   "source": [
    "adata = sc.read_h5ad(h5ad_file)\n",
    "adata_barcodes = adata.obs.index.tolist()\n",
    "\n",
    "# split index for barcodes CBs\n",
    "barcodes = []\n",
    "for entry in adata_barcodes:\n",
    "    barcode = entry.split('+')[1]\n",
    "    barcodes.append(barcode)"
   ]
  },
  {
   "cell_type": "code",
   "execution_count": 15,
   "id": "e0fdf109",
   "metadata": {},
   "outputs": [],
   "source": [
    "adata.obs['stripped_barcodes'] = barcodes\n",
    "adata.obs = adata.obs.set_index('stripped_barcodes')\n",
    "adata_f = adata.copy()\n",
    "adata_b = adata.copy()"
   ]
  },
  {
   "cell_type": "code",
   "execution_count": 27,
   "id": "ea3a095c",
   "metadata": {},
   "outputs": [
    {
     "data": {
      "text/html": [
       "<div>\n",
       "<style scoped>\n",
       "    .dataframe tbody tr th:only-of-type {\n",
       "        vertical-align: middle;\n",
       "    }\n",
       "\n",
       "    .dataframe tbody tr th {\n",
       "        vertical-align: top;\n",
       "    }\n",
       "\n",
       "    .dataframe thead th {\n",
       "        text-align: right;\n",
       "    }\n",
       "</style>\n",
       "<table border=\"1\" class=\"dataframe\">\n",
       "  <thead>\n",
       "    <tr style=\"text-align: right;\">\n",
       "      <th></th>\n",
       "      <th>Chromosome</th>\n",
       "      <th>hg38_Start</th>\n",
       "      <th>hg38_End</th>\n",
       "      <th>Class</th>\n",
       "      <th>Present in fetal tissues</th>\n",
       "      <th>Present in adult tissues</th>\n",
       "      <th>CRE module</th>\n",
       "    </tr>\n",
       "    <tr>\n",
       "      <th>index</th>\n",
       "      <th></th>\n",
       "      <th></th>\n",
       "      <th></th>\n",
       "      <th></th>\n",
       "      <th></th>\n",
       "      <th></th>\n",
       "      <th></th>\n",
       "    </tr>\n",
       "  </thead>\n",
       "  <tbody>\n",
       "    <tr>\n",
       "      <th>chr1:9955-10355</th>\n",
       "      <td>chr1</td>\n",
       "      <td>9955</td>\n",
       "      <td>10355</td>\n",
       "      <td>Promoter Proximal</td>\n",
       "      <td>yes</td>\n",
       "      <td>yes</td>\n",
       "      <td>146</td>\n",
       "    </tr>\n",
       "    <tr>\n",
       "      <th>chr1:29163-29563</th>\n",
       "      <td>chr1</td>\n",
       "      <td>29163</td>\n",
       "      <td>29563</td>\n",
       "      <td>Promoter</td>\n",
       "      <td>yes</td>\n",
       "      <td>yes</td>\n",
       "      <td>37</td>\n",
       "    </tr>\n",
       "    <tr>\n",
       "      <th>chr1:79215-79615</th>\n",
       "      <td>chr1</td>\n",
       "      <td>79215</td>\n",
       "      <td>79615</td>\n",
       "      <td>Distal</td>\n",
       "      <td>no</td>\n",
       "      <td>yes</td>\n",
       "      <td>75</td>\n",
       "    </tr>\n",
       "    <tr>\n",
       "      <th>chr1:102755-103155</th>\n",
       "      <td>chr1</td>\n",
       "      <td>102755</td>\n",
       "      <td>103155</td>\n",
       "      <td>Distal</td>\n",
       "      <td>no</td>\n",
       "      <td>yes</td>\n",
       "      <td>51</td>\n",
       "    </tr>\n",
       "    <tr>\n",
       "      <th>chr1:180580-180980</th>\n",
       "      <td>chr1</td>\n",
       "      <td>180580</td>\n",
       "      <td>180980</td>\n",
       "      <td>Promoter Proximal</td>\n",
       "      <td>no</td>\n",
       "      <td>yes</td>\n",
       "      <td>146</td>\n",
       "    </tr>\n",
       "    <tr>\n",
       "      <th>...</th>\n",
       "      <td>...</td>\n",
       "      <td>...</td>\n",
       "      <td>...</td>\n",
       "      <td>...</td>\n",
       "      <td>...</td>\n",
       "      <td>...</td>\n",
       "      <td>...</td>\n",
       "    </tr>\n",
       "    <tr>\n",
       "      <th>chrY:56676947-56677347</th>\n",
       "      <td>chrY</td>\n",
       "      <td>56676947</td>\n",
       "      <td>56677347</td>\n",
       "      <td>Distal</td>\n",
       "      <td>yes</td>\n",
       "      <td>no</td>\n",
       "      <td>37</td>\n",
       "    </tr>\n",
       "    <tr>\n",
       "      <th>chrY:56677442-56677842</th>\n",
       "      <td>chrY</td>\n",
       "      <td>56677442</td>\n",
       "      <td>56677842</td>\n",
       "      <td>Distal</td>\n",
       "      <td>yes</td>\n",
       "      <td>no</td>\n",
       "      <td>37</td>\n",
       "    </tr>\n",
       "    <tr>\n",
       "      <th>chrY:56678029-56678429</th>\n",
       "      <td>chrY</td>\n",
       "      <td>56678029</td>\n",
       "      <td>56678429</td>\n",
       "      <td>Distal</td>\n",
       "      <td>yes</td>\n",
       "      <td>no</td>\n",
       "      <td>37</td>\n",
       "    </tr>\n",
       "    <tr>\n",
       "      <th>chrY:56678600-56679000</th>\n",
       "      <td>chrY</td>\n",
       "      <td>56678600</td>\n",
       "      <td>56679000</td>\n",
       "      <td>Distal</td>\n",
       "      <td>yes</td>\n",
       "      <td>no</td>\n",
       "      <td>37</td>\n",
       "    </tr>\n",
       "    <tr>\n",
       "      <th>chrY:56707025-56707425</th>\n",
       "      <td>chrY</td>\n",
       "      <td>56707025</td>\n",
       "      <td>56707425</td>\n",
       "      <td>Distal</td>\n",
       "      <td>yes</td>\n",
       "      <td>no</td>\n",
       "      <td>147</td>\n",
       "    </tr>\n",
       "  </tbody>\n",
       "</table>\n",
       "<p>1154611 rows × 7 columns</p>\n",
       "</div>"
      ],
      "text/plain": [
       "                       Chromosome  hg38_Start  hg38_End              Class  \\\n",
       "index                                                                        \n",
       "chr1:9955-10355              chr1        9955     10355  Promoter Proximal   \n",
       "chr1:29163-29563             chr1       29163     29563           Promoter   \n",
       "chr1:79215-79615             chr1       79215     79615             Distal   \n",
       "chr1:102755-103155           chr1      102755    103155             Distal   \n",
       "chr1:180580-180980           chr1      180580    180980  Promoter Proximal   \n",
       "...                           ...         ...       ...                ...   \n",
       "chrY:56676947-56677347       chrY    56676947  56677347             Distal   \n",
       "chrY:56677442-56677842       chrY    56677442  56677842             Distal   \n",
       "chrY:56678029-56678429       chrY    56678029  56678429             Distal   \n",
       "chrY:56678600-56679000       chrY    56678600  56679000             Distal   \n",
       "chrY:56707025-56707425       chrY    56707025  56707425             Distal   \n",
       "\n",
       "                       Present in fetal tissues Present in adult tissues  \\\n",
       "index                                                                      \n",
       "chr1:9955-10355                             yes                      yes   \n",
       "chr1:29163-29563                            yes                      yes   \n",
       "chr1:79215-79615                             no                      yes   \n",
       "chr1:102755-103155                           no                      yes   \n",
       "chr1:180580-180980                           no                      yes   \n",
       "...                                         ...                      ...   \n",
       "chrY:56676947-56677347                      yes                       no   \n",
       "chrY:56677442-56677842                      yes                       no   \n",
       "chrY:56678029-56678429                      yes                       no   \n",
       "chrY:56678600-56679000                      yes                       no   \n",
       "chrY:56707025-56707425                      yes                       no   \n",
       "\n",
       "                        CRE module  \n",
       "index                               \n",
       "chr1:9955-10355                146  \n",
       "chr1:29163-29563                37  \n",
       "chr1:79215-79615                75  \n",
       "chr1:102755-103155              51  \n",
       "chr1:180580-180980             146  \n",
       "...                            ...  \n",
       "chrY:56676947-56677347          37  \n",
       "chrY:56677442-56677842          37  \n",
       "chrY:56678029-56678429          37  \n",
       "chrY:56678600-56679000          37  \n",
       "chrY:56707025-56707425         147  \n",
       "\n",
       "[1154611 rows x 7 columns]"
      ]
     },
     "execution_count": 27,
     "metadata": {},
     "output_type": "execute_result"
    }
   ],
   "source": [
    "adata.var"
   ]
  },
  {
   "cell_type": "code",
   "execution_count": 22,
   "id": "0e39f458",
   "metadata": {},
   "outputs": [],
   "source": [
    "chr_list = adata.var['Chromosome'].unique().to_list()"
   ]
  },
  {
   "cell_type": "code",
   "execution_count": 23,
   "id": "5cb88fdc",
   "metadata": {},
   "outputs": [
    {
     "data": {
      "text/plain": [
       "['chr1',\n",
       " 'chr10',\n",
       " 'chr11',\n",
       " 'chr12',\n",
       " 'chr13',\n",
       " 'chr14',\n",
       " 'chr15',\n",
       " 'chr16',\n",
       " 'chr17',\n",
       " 'chr18',\n",
       " 'chr19',\n",
       " 'chr2',\n",
       " 'chr20',\n",
       " 'chr21',\n",
       " 'chr22',\n",
       " 'chr3',\n",
       " 'chr4',\n",
       " 'chr5',\n",
       " 'chr6',\n",
       " 'chr7',\n",
       " 'chr8',\n",
       " 'chr9',\n",
       " 'chrX',\n",
       " 'chrY',\n",
       " 'chr14_GL000009v2_random',\n",
       " 'chr15_KI270850v1_alt',\n",
       " 'chr17_KI270909v1_alt',\n",
       " 'chr19_KI270938v1_alt',\n",
       " 'chr1_KI270706v1_random',\n",
       " 'chr22_KI270879v1_alt',\n",
       " 'chr4_GL000008v2_random',\n",
       " 'chr7_KI270803v1_alt',\n",
       " 'chr8_KI270821v1_alt',\n",
       " 'chrUn_KI270742v1']"
      ]
     },
     "execution_count": 23,
     "metadata": {},
     "output_type": "execute_result"
    }
   ],
   "source": [
    "chr_list"
   ]
  },
  {
   "cell_type": "code",
   "execution_count": 37,
   "id": "674ba495",
   "metadata": {},
   "outputs": [],
   "source": [
    "subset = ['chr1',\n",
    "          'chr2']"
   ]
  },
  {
   "cell_type": "code",
   "execution_count": 38,
   "id": "c8656c7b",
   "metadata": {},
   "outputs": [],
   "source": [
    "adata_subset = adata[:, adata.var['Chromosome'].isin(subset)].copy()"
   ]
  },
  {
   "cell_type": "code",
   "execution_count": 41,
   "id": "5b7bc69c",
   "metadata": {},
   "outputs": [],
   "source": [
    "adata_subset.write('subsetted_adata.h5ad')"
   ]
  },
  {
   "cell_type": "code",
   "execution_count": 42,
   "id": "61f31327",
   "metadata": {},
   "outputs": [
    {
     "data": {
      "text/html": [
       "<div>\n",
       "<style scoped>\n",
       "    .dataframe tbody tr th:only-of-type {\n",
       "        vertical-align: middle;\n",
       "    }\n",
       "\n",
       "    .dataframe tbody tr th {\n",
       "        vertical-align: top;\n",
       "    }\n",
       "\n",
       "    .dataframe thead th {\n",
       "        text-align: right;\n",
       "    }\n",
       "</style>\n",
       "<table border=\"1\" class=\"dataframe\">\n",
       "  <thead>\n",
       "    <tr style=\"text-align: right;\">\n",
       "      <th></th>\n",
       "      <th>logUMI</th>\n",
       "      <th>tsse</th>\n",
       "      <th>tissue</th>\n",
       "      <th>cell type</th>\n",
       "      <th>Life stage</th>\n",
       "      <th>closest Cell Ontology term(s)</th>\n",
       "      <th>Cell Ontology ID</th>\n",
       "    </tr>\n",
       "    <tr>\n",
       "      <th>stripped_barcodes</th>\n",
       "      <th></th>\n",
       "      <th></th>\n",
       "      <th></th>\n",
       "      <th></th>\n",
       "      <th></th>\n",
       "      <th></th>\n",
       "      <th></th>\n",
       "    </tr>\n",
       "  </thead>\n",
       "  <tbody>\n",
       "    <tr>\n",
       "      <th>TAGTGCTGTCTCGCTTAGCCTT</th>\n",
       "      <td>3.103119</td>\n",
       "      <td>15.499255</td>\n",
       "      <td>heart_lv_SM-JF1NY</td>\n",
       "      <td>Naive T cell</td>\n",
       "      <td>Adult</td>\n",
       "      <td>naive t cell</td>\n",
       "      <td>CL:0000898</td>\n",
       "    </tr>\n",
       "    <tr>\n",
       "      <th>AAATCCGCATAACCGCTAATGA</th>\n",
       "      <td>3.395326</td>\n",
       "      <td>10.463122</td>\n",
       "      <td>heart_lv_SM-JF1NY</td>\n",
       "      <td>Macrophage (General)</td>\n",
       "      <td>Adult</td>\n",
       "      <td>macrophage</td>\n",
       "      <td>CL:0000235</td>\n",
       "    </tr>\n",
       "    <tr>\n",
       "      <th>AAATCCGCATACCAATCGCTTG</th>\n",
       "      <td>3.523876</td>\n",
       "      <td>13.254036</td>\n",
       "      <td>heart_lv_SM-JF1NY</td>\n",
       "      <td>Macrophage (General)</td>\n",
       "      <td>Adult</td>\n",
       "      <td>macrophage</td>\n",
       "      <td>CL:0000235</td>\n",
       "    </tr>\n",
       "    <tr>\n",
       "      <th>AAATCCGCATACGCGGTATGTA</th>\n",
       "      <td>3.231979</td>\n",
       "      <td>10.817031</td>\n",
       "      <td>heart_lv_SM-JF1NY</td>\n",
       "      <td>Macrophage (General)</td>\n",
       "      <td>Adult</td>\n",
       "      <td>macrophage</td>\n",
       "      <td>CL:0000235</td>\n",
       "    </tr>\n",
       "    <tr>\n",
       "      <th>AAATCCGCATATTAGGAGGTCT</th>\n",
       "      <td>3.202488</td>\n",
       "      <td>10.634648</td>\n",
       "      <td>heart_lv_SM-JF1NY</td>\n",
       "      <td>Macrophage (General)</td>\n",
       "      <td>Adult</td>\n",
       "      <td>macrophage</td>\n",
       "      <td>CL:0000235</td>\n",
       "    </tr>\n",
       "    <tr>\n",
       "      <th>...</th>\n",
       "      <td>...</td>\n",
       "      <td>...</td>\n",
       "      <td>...</td>\n",
       "      <td>...</td>\n",
       "      <td>...</td>\n",
       "      <td>...</td>\n",
       "      <td>...</td>\n",
       "    </tr>\n",
       "    <tr>\n",
       "      <th>TACCGTACCTCAGACCTGCTCA</th>\n",
       "      <td>3.558709</td>\n",
       "      <td>9.710744</td>\n",
       "      <td>heart_lv_SM-JF1NY</td>\n",
       "      <td>Pericyte (General) 2</td>\n",
       "      <td>Adult</td>\n",
       "      <td>pericyte cell</td>\n",
       "      <td>CL:0000669</td>\n",
       "    </tr>\n",
       "    <tr>\n",
       "      <th>TAGACCAGGGCTTGCTGCCTAT</th>\n",
       "      <td>4.027431</td>\n",
       "      <td>7.671653</td>\n",
       "      <td>heart_lv_SM-JF1NY</td>\n",
       "      <td>Pericyte (General) 2</td>\n",
       "      <td>Adult</td>\n",
       "      <td>pericyte cell</td>\n",
       "      <td>CL:0000669</td>\n",
       "    </tr>\n",
       "    <tr>\n",
       "      <th>TATGTATGGCTTAGCTTCTCTG</th>\n",
       "      <td>3.456062</td>\n",
       "      <td>16.223776</td>\n",
       "      <td>heart_lv_SM-JF1NY</td>\n",
       "      <td>Pericyte (General) 2</td>\n",
       "      <td>Adult</td>\n",
       "      <td>pericyte cell</td>\n",
       "      <td>CL:0000669</td>\n",
       "    </tr>\n",
       "    <tr>\n",
       "      <th>TCACACGTCGCTGGGCTTGGTA</th>\n",
       "      <td>3.645521</td>\n",
       "      <td>7.692308</td>\n",
       "      <td>heart_lv_SM-JF1NY</td>\n",
       "      <td>Pericyte (General) 2</td>\n",
       "      <td>Adult</td>\n",
       "      <td>pericyte cell</td>\n",
       "      <td>CL:0000669</td>\n",
       "    </tr>\n",
       "    <tr>\n",
       "      <th>TTCGTCCGACCATCCTCATCAA</th>\n",
       "      <td>3.213518</td>\n",
       "      <td>11.126187</td>\n",
       "      <td>heart_lv_SM-JF1NY</td>\n",
       "      <td>Pericyte (General) 2</td>\n",
       "      <td>Adult</td>\n",
       "      <td>pericyte cell</td>\n",
       "      <td>CL:0000669</td>\n",
       "    </tr>\n",
       "  </tbody>\n",
       "</table>\n",
       "<p>9110 rows × 7 columns</p>\n",
       "</div>"
      ],
      "text/plain": [
       "                          logUMI       tsse             tissue  \\\n",
       "stripped_barcodes                                                \n",
       "TAGTGCTGTCTCGCTTAGCCTT  3.103119  15.499255  heart_lv_SM-JF1NY   \n",
       "AAATCCGCATAACCGCTAATGA  3.395326  10.463122  heart_lv_SM-JF1NY   \n",
       "AAATCCGCATACCAATCGCTTG  3.523876  13.254036  heart_lv_SM-JF1NY   \n",
       "AAATCCGCATACGCGGTATGTA  3.231979  10.817031  heart_lv_SM-JF1NY   \n",
       "AAATCCGCATATTAGGAGGTCT  3.202488  10.634648  heart_lv_SM-JF1NY   \n",
       "...                          ...        ...                ...   \n",
       "TACCGTACCTCAGACCTGCTCA  3.558709   9.710744  heart_lv_SM-JF1NY   \n",
       "TAGACCAGGGCTTGCTGCCTAT  4.027431   7.671653  heart_lv_SM-JF1NY   \n",
       "TATGTATGGCTTAGCTTCTCTG  3.456062  16.223776  heart_lv_SM-JF1NY   \n",
       "TCACACGTCGCTGGGCTTGGTA  3.645521   7.692308  heart_lv_SM-JF1NY   \n",
       "TTCGTCCGACCATCCTCATCAA  3.213518  11.126187  heart_lv_SM-JF1NY   \n",
       "\n",
       "                                   cell type Life stage  \\\n",
       "stripped_barcodes                                         \n",
       "TAGTGCTGTCTCGCTTAGCCTT          Naive T cell      Adult   \n",
       "AAATCCGCATAACCGCTAATGA  Macrophage (General)      Adult   \n",
       "AAATCCGCATACCAATCGCTTG  Macrophage (General)      Adult   \n",
       "AAATCCGCATACGCGGTATGTA  Macrophage (General)      Adult   \n",
       "AAATCCGCATATTAGGAGGTCT  Macrophage (General)      Adult   \n",
       "...                                      ...        ...   \n",
       "TACCGTACCTCAGACCTGCTCA  Pericyte (General) 2      Adult   \n",
       "TAGACCAGGGCTTGCTGCCTAT  Pericyte (General) 2      Adult   \n",
       "TATGTATGGCTTAGCTTCTCTG  Pericyte (General) 2      Adult   \n",
       "TCACACGTCGCTGGGCTTGGTA  Pericyte (General) 2      Adult   \n",
       "TTCGTCCGACCATCCTCATCAA  Pericyte (General) 2      Adult   \n",
       "\n",
       "                       closest Cell Ontology term(s) Cell Ontology ID  \n",
       "stripped_barcodes                                                      \n",
       "TAGTGCTGTCTCGCTTAGCCTT                  naive t cell       CL:0000898  \n",
       "AAATCCGCATAACCGCTAATGA                    macrophage       CL:0000235  \n",
       "AAATCCGCATACCAATCGCTTG                    macrophage       CL:0000235  \n",
       "AAATCCGCATACGCGGTATGTA                    macrophage       CL:0000235  \n",
       "AAATCCGCATATTAGGAGGTCT                    macrophage       CL:0000235  \n",
       "...                                              ...              ...  \n",
       "TACCGTACCTCAGACCTGCTCA                 pericyte cell       CL:0000669  \n",
       "TAGACCAGGGCTTGCTGCCTAT                 pericyte cell       CL:0000669  \n",
       "TATGTATGGCTTAGCTTCTCTG                 pericyte cell       CL:0000669  \n",
       "TCACACGTCGCTGGGCTTGGTA                 pericyte cell       CL:0000669  \n",
       "TTCGTCCGACCATCCTCATCAA                 pericyte cell       CL:0000669  \n",
       "\n",
       "[9110 rows x 7 columns]"
      ]
     },
     "execution_count": 42,
     "metadata": {},
     "output_type": "execute_result"
    }
   ],
   "source": [
    "adata_subset.obs"
   ]
  },
  {
   "cell_type": "code",
   "execution_count": null,
   "id": "0f5ab45b",
   "metadata": {},
   "outputs": [],
   "source": []
  },
  {
   "cell_type": "code",
   "execution_count": null,
   "id": "79b53da6",
   "metadata": {},
   "outputs": [
    {
     "name": "stdout",
     "output_type": "stream",
     "text": [
      "Count insertsizes from fragments...\n",
      "Starting counting fragments...\n"
     ]
    },
    {
     "name": "stderr",
     "output_type": "stream",
     "text": [
      "Processing Chunks: 17it [01:20,  4.74s/it]\n"
     ]
    }
   ],
   "source": [
    "adata_f = add_fld_metrics(adata=adata_subset,\n",
    "                        fragments=fragments_file,\n",
    "                        barcode_col=None,\n",
    "                        chunk_size_fragments=5000000,\n",
    "                        peaks_thr=0.5,\n",
    "                        wavelength=150,\n",
    "                        sigma=0.4,\n",
    "                        plot=True,\n",
    "                        save_density=None,\n",
    "                        save_overview=None,\n",
    "                        sample=0,\n",
    "                        n_threads=12)"
   ]
  },
  {
   "cell_type": "code",
   "execution_count": null,
   "id": "3d3b0332",
   "metadata": {},
   "outputs": [],
   "source": [
    "adata_f.obs"
   ]
  },
  {
   "cell_type": "code",
   "execution_count": null,
   "id": "09a3bcae",
   "metadata": {},
   "outputs": [],
   "source": [
    "adata_b = add_fld_metrics(adata=adata_b,\n",
    "                        bam=bamfile,\n",
    "                        barcode_col=None,\n",
    "                        barcode_tag=\"CB\",\n",
    "                        chunk_size_bam=1000000,\n",
    "                        regions=None,\n",
    "                        peaks_thr=0.5,\n",
    "                        wavelength=150,\n",
    "                        sigma=0.4,\n",
    "                        plot=True,\n",
    "                        save_density=None,\n",
    "                        save_overview=None,\n",
    "                        sample=0,\n",
    "                        n_threads=12)"
   ]
  },
  {
   "cell_type": "code",
   "execution_count": null,
   "id": "00d3f04f",
   "metadata": {},
   "outputs": [],
   "source": [
    "adata_b.obs"
   ]
  },
  {
   "cell_type": "code",
   "execution_count": null,
   "id": "ec5e4455",
   "metadata": {},
   "outputs": [],
   "source": [
    "\n",
    "def good_modulation():\n",
    "    \"\"\"Create a modulation curve.\"\"\"\n",
    "\n",
    "    mus = [45, 200, 360]\n",
    "    sigs = [45, 55, 100]\n",
    "    divs = [1, 2, 6]\n",
    "\n",
    "    return modulation(mus, sigs, divs)\n",
    "\n",
    "\n",
    "\n",
    "def bad_modulation():\n",
    "    \"\"\"Create a modulation curve.\"\"\"\n",
    "\n",
    "    mus = [45, 100, 360]\n",
    "    sigs = [45, 80, 100]\n",
    "    divs = [1, 8, 10]\n",
    "\n",
    "    return modulation(mus, sigs, divs)\n",
    "\n",
    "\n",
    "def modulation(mus, sigs, divs):\n",
    "    \"\"\"Build a modulation curve.\"\"\"\n",
    "    def gaussian(x, mu, sig):  # Gaussian function\n",
    "        return np.exp(-np.power(x - mu, 2.) / (2 * np.power(sig, 2.)))\n",
    "\n",
    "    curves = []\n",
    "    x_values = np.linspace(0, 1000, 1000)\n",
    "    for mu, sig in [(mus[0], sigs[0]), (mus[1], sigs[1]), (mus[2], sigs[2])]:  # Gaussian curves with different means and standard deviations\n",
    "        curves.append(gaussian(x_values, mu, sig))\n",
    "\n",
    "    curves[1] = curves[1] / divs[0]  # Peak 1\n",
    "    curves[1] = curves[1] / divs[1] # Peak 2\n",
    "    curves[2] = curves[2] / divs[2]  # Bias\n",
    "    sum_c = np.sum(curves, axis=0)  # Sum of the curves\n",
    "\n",
    "    return (sum_c * 100)"
   ]
  },
  {
   "cell_type": "code",
   "execution_count": null,
   "id": "4e5da3e9",
   "metadata": {},
   "outputs": [],
   "source": [
    "good_modulation = good_modulation()\n",
    "\n",
    "plt.plot(good_modulation)"
   ]
  },
  {
   "cell_type": "code",
   "execution_count": null,
   "id": "571fb81d",
   "metadata": {},
   "outputs": [],
   "source": [
    "bad_modulation = bad_modulation()\n",
    "\n",
    "plt.plot(bad_modulation)"
   ]
  },
  {
   "cell_type": "code",
   "execution_count": null,
   "id": "8f0c7844",
   "metadata": {},
   "outputs": [],
   "source": [
    "good_fit = custom_conv(np.array([good_modulation]))\n",
    "good_peaks = call_peaks(good_fit)\n",
    "good_peaks = filter_peaks(good_peaks, reference=good_fit, peaks_thr=150, operator=\"bigger\")\n",
    "good_score = score_mask(good_peaks, good_fit)\n",
    "bad_fit = custom_conv([bad_modulation])\n",
    "bad_peaks = call_peaks(bad_fit)\n",
    "bad_peaks = filter_peaks(bad_peaks, reference=bad_fit, peaks_thr=150, operator=\"bigger\")\n",
    "bad_score = score_mask(bad_peaks, bad_fit)"
   ]
  },
  {
   "cell_type": "code",
   "execution_count": null,
   "id": "14f7efc7",
   "metadata": {},
   "outputs": [],
   "source": [
    "good_score"
   ]
  },
  {
   "cell_type": "code",
   "execution_count": null,
   "id": "e49995a0",
   "metadata": {},
   "outputs": [],
   "source": [
    "bad_score"
   ]
  },
  {
   "cell_type": "code",
   "execution_count": null,
   "id": "7fffd65a",
   "metadata": {},
   "outputs": [],
   "source": [
    "good_peaks"
   ]
  },
  {
   "cell_type": "code",
   "execution_count": null,
   "id": "0c843977",
   "metadata": {},
   "outputs": [],
   "source": [
    "good_peaks"
   ]
  },
  {
   "cell_type": "code",
   "execution_count": null,
   "id": "69afc86a",
   "metadata": {},
   "outputs": [],
   "source": [
    "plt.plot(bad_fit[0])"
   ]
  },
  {
   "cell_type": "code",
   "execution_count": null,
   "id": "0bb70389",
   "metadata": {},
   "outputs": [],
   "source": [
    "peaks"
   ]
  },
  {
   "cell_type": "code",
   "execution_count": null,
   "id": "dc4c3e96",
   "metadata": {},
   "outputs": [],
   "source": [
    "round(wav_1[peaks_1[0][0]] / wav_1[peaks_1[0][1]], 1) == 1"
   ]
  },
  {
   "cell_type": "code",
   "execution_count": null,
   "id": "6e65be77",
   "metadata": {},
   "outputs": [],
   "source": [
    "round(wav_2[peaks_2[0][0]] / wav_2[peaks_2[0][1]], 1) == 0.3"
   ]
  },
  {
   "cell_type": "code",
   "execution_count": null,
   "id": "3d2f0481",
   "metadata": {},
   "outputs": [],
   "source": [
    "# check for the correct wavelength\n",
    "wav_1 = cos_wavelet(wavelength=100,\n",
    "                amplitude=1.0,\n",
    "                phase_shift=0,\n",
    "                mu=0.0,\n",
    "                sigma=10,\n",
    "                plot=False,\n",
    "                save=None) \n",
    "\n",
    "peaks_1 = call_peaks([wav_1])\n",
    "\n",
    "99 == peaks_1[0][1] - peaks_1[0][0]\n",
    "100 == peaks_1[0][2] - peaks_1[0][1]\n",
    "\n",
    "# check if centered\n",
    "wav_2 = cos_wavelet(wavelength=100,\n",
    "                amplitude=1.0,\n",
    "                phase_shift=0,\n",
    "                mu=0.0,\n",
    "                sigma=0.4,\n",
    "                plot=False,\n",
    "                save=None) \n",
    "\n",
    "peaks_2 = call_peaks([wav_2])\n",
    "np.where(np.max(wav_2) == wav_2)[0][0] == 149 # check if centered\n",
    "\n",
    "# check if sigma scales the cosine \n",
    "round(wav_1[peaks_1[0][0]] / wav_1[peaks_1[0][1]], 1) == 1\n",
    "round(wav_2[peaks_2[0][0]] / wav_2[peaks_2[0][1]], 1) == 0.3\n",
    "\n",
    "# check if its shifting\n",
    "wav_3 = cos_wavelet(wavelength=100,\n",
    "                amplitude=1.0,\n",
    "                phase_shift=np.pi,\n",
    "                mu=0.0,\n",
    "                sigma=10,\n",
    "                plot=False,\n",
    "                save=None) \n",
    "\n",
    "peaks_3 = call_peaks([wav_3])\n",
    "np.where(np.max(wav_3) == wav_3)[0][0] == 100  # half the wavelength shift compared to before\n",
    "\n",
    "\n",
    "wav_4 = cos_wavelet(wavelength=100,\n",
    "                amplitude=1.0,\n",
    "                phase_shift=0,\n",
    "                mu=100,\n",
    "                sigma=0.4,\n",
    "                plot=False,\n",
    "                save=None) \n",
    "\n",
    "peaks_4 = call_peaks([wav_4])\n",
    "np.where(np.max(wav_4) == wav_4)[0][0]  == 249  # one wavelength shift for the gauss curve compared to before"
   ]
  },
  {
   "cell_type": "code",
   "execution_count": null,
   "id": "325cfaa7",
   "metadata": {},
   "outputs": [],
   "source": [
    "wavelength = 100\n",
    "wavl_scale = int(wavelength * 1.5)\n",
    "x = np.linspace(-wavl_scale, wavl_scale, wavl_scale * 2)"
   ]
  },
  {
   "cell_type": "code",
   "execution_count": null,
   "id": "03d5d7c8",
   "metadata": {},
   "outputs": [],
   "source": [
    "np.where(np.max(wav_3) == wav_3)[0]"
   ]
  },
  {
   "cell_type": "code",
   "execution_count": null,
   "id": "ec50b6db",
   "metadata": {},
   "outputs": [],
   "source": [
    "peaks_3[0][0] == 100\n",
    "peaks_3[0][1] == 199"
   ]
  },
  {
   "cell_type": "code",
   "execution_count": null,
   "id": "3dab67cd",
   "metadata": {},
   "outputs": [],
   "source": [
    "plt.plot(wav_3)"
   ]
  },
  {
   "cell_type": "code",
   "execution_count": null,
   "id": "f414e3c6",
   "metadata": {},
   "outputs": [],
   "source": [
    "plt.plot(wav_2)"
   ]
  },
  {
   "cell_type": "code",
   "execution_count": null,
   "id": "c082b7b2",
   "metadata": {},
   "outputs": [],
   "source": [
    "len(cosine_curve)"
   ]
  },
  {
   "cell_type": "code",
   "execution_count": null,
   "id": "b2ead522",
   "metadata": {},
   "outputs": [],
   "source": [
    "sigma = 0.4\n",
    "mu = 0\n",
    "gaussian = (1 / (sigma * np.sqrt(2 * np.pi))) * np.exp(-0.5 * ((x - mu) / sigma) ** 2)\n",
    "wavelet = cosine_curve * gaussian"
   ]
  },
  {
   "cell_type": "code",
   "execution_count": null,
   "id": "ec22e1e4",
   "metadata": {},
   "outputs": [],
   "source": [
    "len(wav)"
   ]
  },
  {
   "cell_type": "code",
   "execution_count": null,
   "id": "bd54e2c3",
   "metadata": {},
   "outputs": [],
   "source": [
    "len(gaussian)"
   ]
  },
  {
   "cell_type": "code",
   "execution_count": null,
   "id": "6f828127",
   "metadata": {},
   "outputs": [],
   "source": [
    "len(cosine_curve)"
   ]
  },
  {
   "cell_type": "code",
   "execution_count": null,
   "id": "8966f576",
   "metadata": {},
   "outputs": [],
   "source": [
    "x = np.linspace(-4, 4, 1000)\n",
    "mu = 0\n",
    "sig = 1\n",
    "gaussian = gauss(x, mu, sig)\n",
    "plt.plot(gaussian)\n",
    "print(gaussian[350])\n",
    "print(gaussian[499])\n",
    "print(gaussian[650])"
   ]
  },
  {
   "cell_type": "code",
   "execution_count": null,
   "id": "3895b368",
   "metadata": {},
   "outputs": [],
   "source": [
    "    x = np.linspace(-4, 4, 1000)\n",
    "    mu = 0\n",
    "    sig = 1\n",
    "    gauss = fld.gauss(x, mu, sig)\n",
    "\n",
    "    assert gauss[200] < 0.1\n",
    "    assert gauss[500] == 1\n",
    "    assert gauss[800] < 0.1"
   ]
  },
  {
   "cell_type": "code",
   "execution_count": null,
   "id": "7997b0fc",
   "metadata": {},
   "outputs": [],
   "source": []
  },
  {
   "cell_type": "code",
   "execution_count": null,
   "id": "c70b8e2c",
   "metadata": {},
   "outputs": [],
   "source": []
  },
  {
   "cell_type": "code",
   "execution_count": null,
   "id": "b6ba69f5",
   "metadata": {},
   "outputs": [],
   "source": []
  },
  {
   "cell_type": "code",
   "execution_count": null,
   "id": "cd59cad4",
   "metadata": {},
   "outputs": [],
   "source": [
    "@beartype\n",
    "def gauss(x: npt.ArrayLike,\n",
    "          mu: int | float,\n",
    "          sigma: int | float) -> npt.ArrayLike:\n",
    "    \"\"\"\n",
    "    Calculate the values of the Gaussian function for a given x, mu and sigma.\n",
    "\n",
    "    Parameters\n",
    "    ----------\n",
    "    x : npt.ArrayLike\n",
    "        x values\n",
    "    mu : float\n",
    "        mu value\n",
    "    sigma : float\n",
    "        sigma value\n",
    "\n",
    "    Returns\n",
    "    -------\n",
    "    float\n",
    "        Value of the Gaussian function for the given x, mu and sigma.\n",
    "    \"\"\"\n",
    "\n",
    "    gaussian = (1 / (sigma * np.sqrt(2 * np.pi))) * np.exp(-0.5 * ((x - mu) / sigma) ** 2)\n",
    "    \n",
    "    # scale max to 1\n",
    "    max_val = np.max(gaussian)\n",
    "    scaler = 1/max_val\n",
    "    gaussian = gaussian * scaler\n",
    "\n",
    "    return gaussian"
   ]
  },
  {
   "cell_type": "code",
   "execution_count": null,
   "id": "b5a3c3ae",
   "metadata": {},
   "outputs": [],
   "source": [
    "mask, pl = build_score_mask(plot=True,\n",
    "                     save=None,\n",
    "                     mu_list=[42, 200, 360, 550],\n",
    "                     sigma_list=[25, 35, 45, 25])\n",
    "mask"
   ]
  },
  {
   "cell_type": "code",
   "execution_count": null,
   "id": "0bd1b15a",
   "metadata": {},
   "outputs": [],
   "source": [
    "np.concatenate(call_peaks(mask))"
   ]
  },
  {
   "cell_type": "code",
   "execution_count": null,
   "id": "72c0a3a4",
   "metadata": {},
   "outputs": [],
   "source": [
    "type(pl[1])"
   ]
  },
  {
   "cell_type": "code",
   "execution_count": null,
   "id": "ebaabc7e",
   "metadata": {},
   "outputs": [],
   "source": [
    "x = np.linspace(-1000, 1000, 1000)\n",
    "mu = 10 # Mean of the Gaussian\n",
    "sig = 10 # Standard deviation of the Gaussian\n",
    "gauss_dis = gauss(x, mu, sig)\n",
    "max_val = np.max(gauss_dis)\n",
    "scaler = 1/max_val\n",
    "scaled_gauss = gauss_dis * scaler\n",
    "plt.plot(scaled_gauss)"
   ]
  },
  {
   "cell_type": "code",
   "execution_count": null,
   "id": "8e5baadf",
   "metadata": {},
   "outputs": [],
   "source": [
    "def gaussian(x, mu, sig):  # Gaussian function\n",
    "    return np.exp(-np.power(x - mu, 2.) / (2 * np.power(sig, 2.)))\n",
    "\n",
    "curves = []\n",
    "x_values = np.linspace(0, 1000, 1000)\n",
    "for mu, sig in [(45, 45), (200, 50), (360, 30)]:  # Gaussian curves with different means and standard deviations\n",
    "    curves.append(gaussian(x_values, mu, sig))\n",
    "\n",
    "curves[1] = curves[1] / 1  # Peak 1\n",
    "curves[1] = curves[1] / 2  # Peak 2\n",
    "curves[2] = curves[2] / 4  # Bias\n",
    "sum_c = np.sum(curves, axis=0)  # Sum of the curves\n",
    "\n",
    "plt.plot(sum_c*100) "
   ]
  },
  {
   "cell_type": "code",
   "execution_count": null,
   "id": "ce4c0ad3",
   "metadata": {},
   "outputs": [],
   "source": [
    "amplitude = 1\n",
    "wavelength = 50\n",
    "phase_shift = 0\n",
    "\n",
    "# Scale the wavelength and sigma with the scale\n",
    "wavl_scale = int(wavelength * 1.5)\n",
    "frequency = 1.5 / wavl_scale  # This ensures the frequency is scaled with scale\n",
    "\n",
    "# Create an array of x values\n",
    "x = np.linspace(-wavl_scale, wavl_scale, wavl_scale * 2)\n",
    "\n",
    "cosine_curve = amplitude * np.cos(2 * np.pi * frequency * x + phase_shift)"
   ]
  },
  {
   "cell_type": "code",
   "execution_count": null,
   "id": "489e15f7",
   "metadata": {},
   "outputs": [],
   "source": [
    "def cosine(wavelength, amplitude=1, phase_shift=0):\n",
    "    # Scale the wavelength and sigma with the scale\n",
    "    wavl_scale = int(wavelength * 1.5)\n",
    "    frequency = 1.5 / wavl_scale  # This ensures the frequency is scaled with scale\n",
    "\n",
    "    # Create an array of x values\n",
    "    x = np.linspace(-wavl_scale, wavl_scale, wavl_scale * 2)\n",
    "    x = np.arange(0,1000)\n",
    "\n",
    "    return amplitude * np.cos(2 * np.pi * frequency * x + phase_shift)"
   ]
  },
  {
   "cell_type": "code",
   "execution_count": null,
   "id": "6514c85a",
   "metadata": {},
   "outputs": [],
   "source": [
    "plt.plot(cosine(100, 0.1))"
   ]
  },
  {
   "cell_type": "code",
   "execution_count": null,
   "id": "8fa8a72b",
   "metadata": {},
   "outputs": [],
   "source": [
    "plt.plot(cosine(150,0.5))"
   ]
  },
  {
   "cell_type": "code",
   "execution_count": null,
   "id": "e4a0181f",
   "metadata": {},
   "outputs": [],
   "source": [
    "plt.plot(cosine(75,0.2))"
   ]
  },
  {
   "cell_type": "code",
   "execution_count": null,
   "id": "53012a98",
   "metadata": {},
   "outputs": [],
   "source": [
    "cosine_modulation = cosine(25, 0.1) + cosine(150,0.5) + cosine(75,0.2) + cosine(100,0.4)\n",
    "plt.plot(cosine_modulation)"
   ]
  },
  {
   "cell_type": "code",
   "execution_count": null,
   "id": "e4f36064",
   "metadata": {},
   "outputs": [],
   "source": [
    "cosine_modulation\n",
    "wavelengths=[25,50,75,100,125,150,175,200]\n",
    "wav_t = wavelet_transform_fld(dists_arr = [cosine_modulation,cosine_modulation], wavelengths=wavelengths)"
   ]
  },
  {
   "cell_type": "code",
   "execution_count": null,
   "id": "0fca399c",
   "metadata": {},
   "outputs": [],
   "source": [
    "plt.plot(wav_t[0][0])"
   ]
  },
  {
   "cell_type": "code",
   "execution_count": null,
   "id": "d3fb3603",
   "metadata": {},
   "outputs": [],
   "source": [
    "round(np.mean(np.diff(call_peaks([wav_t[0][0]], distance=1, width=0)))) == 25\n",
    "round(np.mean(np.diff(call_peaks([wav_t[0][2]], distance=1, width=0)))) == 75\n",
    "round(np.mean(np.diff(call_peaks([wav_t[0][4]], distance=1, width=0)))) == 100\n",
    "round(np.mean(np.diff(call_peaks([wav_t[0][6]], distance=1, width=0)))) == 151\n"
   ]
  },
  {
   "cell_type": "code",
   "execution_count": null,
   "id": "903509e5",
   "metadata": {},
   "outputs": [],
   "source": [
    "plot_wavelet_transformation(convolution=(wav_t[0]),\n",
    "                            wavelengths=wavelengths)"
   ]
  },
  {
   "cell_type": "code",
   "execution_count": null,
   "id": "3faf8881",
   "metadata": {},
   "outputs": [],
   "source": [
    "plt.plot(wav_t[0][2])"
   ]
  },
  {
   "cell_type": "code",
   "execution_count": null,
   "id": "4d5c34d6",
   "metadata": {},
   "outputs": [],
   "source": [
    "gauss(x=np.linspace(-50, 50, 50), mu=10, sigma=10)"
   ]
  },
  {
   "cell_type": "code",
   "execution_count": null,
   "id": "449d1617",
   "metadata": {},
   "outputs": [],
   "source": [
    "wavl_scale = 500\n",
    "x = np.linspace(-wavl_scale, wavl_scale, wavl_scale * 2)\n",
    "x"
   ]
  },
  {
   "cell_type": "code",
   "execution_count": null,
   "id": "c01508e3",
   "metadata": {},
   "outputs": [],
   "source": [
    "def good_modulation():\n",
    "    \"\"\"Create a modulation curve.\"\"\"\n",
    "\n",
    "    mus = [45, 200, 360]\n",
    "    sigs = [45, 55, 100]\n",
    "    divs = [1, 2, 6]\n",
    "\n",
    "    return modulation(mus, sigs, divs)\n",
    "\n",
    "\n",
    "def bad_modulation():\n",
    "    \"\"\"Create a modulation curve.\"\"\"\n",
    "\n",
    "    mus = [45, 100, 360]\n",
    "    sigs = [45, 80, 100]\n",
    "    divs = [1, 8, 10]\n",
    "\n",
    "    return modulation(mus, sigs, divs)\n",
    "\n",
    "\n",
    "def modulation(mus, sigs, divs):\n",
    "    \"\"\"Build a modulation curve.\"\"\"\n",
    "    def gaussian(x, mu, sig):  # Gaussian function\n",
    "        return np.exp(-np.power(x - mu, 2.) / (2 * np.power(sig, 2.)))\n",
    "\n",
    "    curves = []\n",
    "    x_values = np.linspace(0, 1000, 1000)\n",
    "    for mu, sig in [(mus[0], sigs[0]), (mus[1], sigs[1]), (mus[2], sigs[2])]:  # Gaussian curves with different means and standard deviations\n",
    "        curves.append(gaussian(x_values, mu, sig))\n",
    "\n",
    "    curves[1] = curves[1] / divs[0]  # Peak 1\n",
    "    curves[1] = curves[1] / divs[1] # Peak 2\n",
    "    curves[2] = curves[2] / divs[2]  # Bias\n",
    "    sum_c = np.sum(curves, axis=0)  # Sum of the curves\n",
    "\n",
    "    return (sum_c * 100)"
   ]
  },
  {
   "cell_type": "code",
   "execution_count": null,
   "id": "80f4c24f",
   "metadata": {},
   "outputs": [],
   "source": [
    "good_modulation_arr = good_modulation()\n",
    "bad_modulation_arr = bad_modulation()\n",
    "plt.plot(good_modulation_arr)\n",
    "plt.show()\n",
    "plt.plot(bad_modulation_arr)\n",
    "plt.show()"
   ]
  },
  {
   "cell_type": "code",
   "execution_count": null,
   "id": "330ab65c",
   "metadata": {},
   "outputs": [],
   "source": [
    "call_peaks([good_modulation_arr, bad_modulation_arr])"
   ]
  },
  {
   "cell_type": "code",
   "execution_count": null,
   "id": "58d7920f",
   "metadata": {},
   "outputs": [],
   "source": []
  },
  {
   "cell_type": "code",
   "execution_count": null,
   "id": "b4cecf8d",
   "metadata": {},
   "outputs": [],
   "source": [
    "score_mask(good_modulation_arr)"
   ]
  },
  {
   "cell_type": "code",
   "execution_count": null,
   "id": "e5019d18",
   "metadata": {},
   "outputs": [],
   "source": []
  },
  {
   "cell_type": "code",
   "execution_count": null,
   "id": "b602ab1b",
   "metadata": {},
   "outputs": [],
   "source": []
  },
  {
   "cell_type": "code",
   "execution_count": null,
   "id": "dc6face6",
   "metadata": {},
   "outputs": [],
   "source": []
  },
  {
   "cell_type": "code",
   "execution_count": null,
   "id": "cc9b83d9",
   "metadata": {},
   "outputs": [],
   "source": []
  },
  {
   "cell_type": "code",
   "execution_count": null,
   "id": "d067ea3b",
   "metadata": {},
   "outputs": [],
   "source": [
    "count_table_ori = ins.insertsize_from_fragments(fragments=fragments_file,\n",
    "                              barcodes=barcodes,\n",
    "                              n_threads=8)\n",
    "\n",
    "count_table = count_table_ori.copy()"
   ]
  },
  {
   "cell_type": "code",
   "execution_count": null,
   "id": "0361a346",
   "metadata": {},
   "outputs": [],
   "source": [
    "count_table = count_table_ori.copy()"
   ]
  },
  {
   "cell_type": "code",
   "execution_count": null,
   "id": "6699a8eb",
   "metadata": {},
   "outputs": [],
   "source": [
    "means = count_table.pop('mean_insertsize')\n",
    "insert_counts = count_table.pop('insertsize_count')\n",
    "barcodes = count_table.index\n",
    "# Assuming count_table is your DataFrame and you're trying to convert 'dist' column to a numpy array of type int64\n",
    "dists_arr = np.array(count_table['dist'].tolist(), dtype=np.int64)\n",
    "dists_arr"
   ]
  },
  {
   "cell_type": "code",
   "execution_count": null,
   "id": "9440d772",
   "metadata": {},
   "outputs": [],
   "source": [
    "# --> Remove empty cells"
   ]
  },
  {
   "cell_type": "code",
   "execution_count": null,
   "id": "b47c106e",
   "metadata": {},
   "outputs": [],
   "source": [
    "def count_overlap(index1, index2):\n",
    "    \"\"\"\n",
    "    Counts the number of overlapping elements between two indices.\n",
    "    \n",
    "    Parameters:\n",
    "    - index1: Index of the first DataFrame.\n",
    "    - index2: Index of the second DataFrame.\n",
    "    \n",
    "    Returns:\n",
    "    - int: The count of overlapping elements.\n",
    "    \"\"\"\n",
    "    # Convert both indices to sets to ensure unique elements\n",
    "    set1 = set(index1)\n",
    "    set2 = set(index2)\n",
    "    \n",
    "    # Find the intersection of both sets\n",
    "    overlap = set1.intersection(set2)\n",
    "    \n",
    "    # Return the size of the intersection\n",
    "    return len(overlap)"
   ]
  },
  {
   "cell_type": "code",
   "execution_count": null,
   "id": "e7b70164",
   "metadata": {},
   "outputs": [],
   "source": [
    "plot = True\n",
    "save_plots = 'density_plot'\n",
    "# plot the densityplot of the fragment length distribution\n",
    "if plot:\n",
    "    print(\"plotting density...\")\n",
    "    density_plot(dists_arr, max_abundance=600, save=save_plots)"
   ]
  },
  {
   "cell_type": "code",
   "execution_count": null,
   "id": "d5bd5422",
   "metadata": {},
   "outputs": [],
   "source": [
    "wavelength = 150\n",
    "sigma = 0.4\n",
    "plot=True\n",
    "n_threads=8\n",
    "peaks_thr=0.5\n",
    "save_overview='ov_test'\n",
    "sample=0\n",
    "\n",
    "\n",
    "print(\"calculating scores using the custom continues wavelet transformation...\")\n",
    "conv_scores = score_by_conv(data=dists_arr,\n",
    "                            wavelength=wavelength,\n",
    "                            sigma=sigma,\n",
    "                            plot_wavl=plot,\n",
    "                            n_threads=n_threads,\n",
    "                            peaks_thr=peaks_thr,\n",
    "                            operator='bigger',\n",
    "                            plot_mask=plot,\n",
    "                            plot_ov=plot,\n",
    "                            save=save_overview,\n",
    "                            sample=sample)\n"
   ]
  },
  {
   "cell_type": "code",
   "execution_count": null,
   "id": "148bcc75",
   "metadata": {},
   "outputs": [],
   "source": [
    "inserts_df = pd.DataFrame(data={'fld_score':conv_scores,\n",
    "                                'mean_fragment_size': means,\n",
    "                                'n_fragments':insert_counts},\n",
    "                          index=barcodes)\n",
    "\n",
    "inserts_df"
   ]
  },
  {
   "cell_type": "code",
   "execution_count": null,
   "id": "450a4454",
   "metadata": {},
   "outputs": [],
   "source": [
    "inserts_df.shape"
   ]
  },
  {
   "cell_type": "code",
   "execution_count": null,
   "id": "67bfe94b",
   "metadata": {},
   "outputs": [],
   "source": [
    "adata.obs.shape"
   ]
  },
  {
   "cell_type": "code",
   "execution_count": null,
   "id": "e3346956",
   "metadata": {},
   "outputs": [],
   "source": [
    "adata.obs = adata.obs.join(inserts_df)\n",
    "\n",
    "adata.obs['fld_score'] = adata.obs['fld_score'].fillna(0)\n",
    "adata.obs['mean_fragment_size'] = adata.obs['mean_fragment_size'].fillna(0)\n",
    "adata.obs['n_fragments'] = adata.obs['n_fragments'].fillna(0)"
   ]
  },
  {
   "cell_type": "code",
   "execution_count": null,
   "id": "76863a67",
   "metadata": {},
   "outputs": [],
   "source": [
    "adata.obs"
   ]
  },
  {
   "cell_type": "code",
   "execution_count": null,
   "id": "612b44ff",
   "metadata": {},
   "outputs": [],
   "source": []
  }
 ],
 "metadata": {
  "kernelspec": {
   "display_name": "peakqc",
   "language": "python",
   "name": "peakqc"
  },
  "language_info": {
   "codemirror_mode": {
    "name": "ipython",
    "version": 3
   },
   "file_extension": ".py",
   "mimetype": "text/x-python",
   "name": "python",
   "nbconvert_exporter": "python",
   "pygments_lexer": "ipython3",
   "version": "3.10.10"
  }
 },
 "nbformat": 4,
 "nbformat_minor": 5
}
