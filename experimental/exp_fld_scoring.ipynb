{
 "cells": [
  {
   "cell_type": "markdown",
   "id": "3bba5d62",
   "metadata": {},
   "source": [
    "# Experimental FLD scoring "
   ]
  },
  {
   "cell_type": "code",
   "execution_count": 1,
   "id": "7693a634",
   "metadata": {},
   "outputs": [],
   "source": [
    "import scanpy as sc\n",
    "import numpy as np\n",
    "import pandas as pd\n",
    "\n",
    "from peakqc.fld_scoring import *\n",
    "import peakqc.insertsizes as ins"
   ]
  },
  {
   "cell_type": "code",
   "execution_count": 2,
   "id": "a29e030c",
   "metadata": {},
   "outputs": [],
   "source": [
    "fragments_file = \"/mnt/workspace2/jdetlef/data/public_data/fragments_heart_left_ventricle_194_sorted.bed\"\n",
    "h5ad_file = \"/mnt/workspace2/jdetlef/data/public_data/heart_lv_SM-JF1NY.h5ad\""
   ]
  },
  {
   "cell_type": "code",
   "execution_count": 3,
   "id": "eed8c372",
   "metadata": {},
   "outputs": [],
   "source": [
    "adata = sc.read_h5ad(h5ad_file)\n",
    "adata_barcodes = adata.obs.index.tolist()\n",
    "\n",
    "# split index for barcodes CBs\n",
    "barcodes = []\n",
    "for entry in adata_barcodes:\n",
    "    barcode = entry.split('+')[1]\n",
    "    barcodes.append(barcode)"
   ]
  },
  {
   "cell_type": "code",
   "execution_count": null,
   "id": "0097b5d8",
   "metadata": {},
   "outputs": [
    {
     "name": "stdout",
     "output_type": "stream",
     "text": [
      "Count insertsizes from fragments...\n",
      "Starting counting fragments...\n"
     ]
    },
    {
     "name": "stderr",
     "output_type": "stream",
     "text": [
      "Processing Chunks: 17it [01:11,  4.19s/it]\n"
     ]
    }
   ],
   "source": [
    "count_table_ori = ins.insertsize_from_fragments(fragments=fragments_file,\n",
    "                              barcodes=barcodes,\n",
    "                              n_threads=8)\n",
    "\n",
    "count_table = count_table_ori.copy()"
   ]
  },
  {
   "cell_type": "code",
   "execution_count": null,
   "id": "a629b4cd",
   "metadata": {},
   "outputs": [],
   "source": [
    "count_table = count_table_ori.copy()"
   ]
  },
  {
   "cell_type": "code",
   "execution_count": null,
   "id": "cf7c7095",
   "metadata": {},
   "outputs": [],
   "source": [
    "means = count_table.pop('mean_insertsize')\n",
    "insert_counts = count_table.pop('insertsize_count')\n",
    "barcodes = count_table.index\n",
    "# Assuming count_table is your DataFrame and you're trying to convert 'dist' column to a numpy array of type int64\n",
    "dists_arr = np.array(count_table['dist'].tolist(), dtype=np.int64)\n",
    "dists_arr"
   ]
  },
  {
   "cell_type": "code",
   "execution_count": null,
   "id": "6749d306",
   "metadata": {},
   "outputs": [],
   "source": [
    "plot = True\n",
    "save_plots = 'density_plot'\n",
    "# plot the densityplot of the fragment length distribution\n",
    "if plot:\n",
    "    print(\"plotting density...\")\n",
    "    density_plot(dists_arr, max_abundance=600, save=save_plots)"
   ]
  },
  {
   "cell_type": "code",
   "execution_count": null,
   "id": "31a74dc1",
   "metadata": {},
   "outputs": [],
   "source": [
    "wavelength = 150\n",
    "sigma = 0.4\n",
    "plot=True\n",
    "n_threads=8\n",
    "peaks_thr=1\n",
    "save_overview='ov_test'\n",
    "sample=0\n",
    "\n",
    "\n",
    "print(\"calculating scores using the custom continues wavelet transformation...\")\n",
    "conv_scores = score_by_conv(data=dists_arr,\n",
    "                            wavelength=wavelength,\n",
    "                            sigma=sigma,\n",
    "                            plot_wavl=plot,\n",
    "                            n_threads=n_threads,\n",
    "                            peaks_thr=peaks_thr,\n",
    "                            operator='bigger',\n",
    "                            plot_mask=plot,\n",
    "                            plot_ov=plot,\n",
    "                            save=save_overview,\n",
    "                            sample=sample)"
   ]
  },
  {
   "cell_type": "code",
   "execution_count": null,
   "id": "63c18d9d",
   "metadata": {},
   "outputs": [],
   "source": []
  }
 ],
 "metadata": {
  "kernelspec": {
   "display_name": "peakqc",
   "language": "python",
   "name": "peakqc"
  },
  "language_info": {
   "codemirror_mode": {
    "name": "ipython",
    "version": 3
   },
   "file_extension": ".py",
   "mimetype": "text/x-python",
   "name": "python",
   "nbconvert_exporter": "python",
   "pygments_lexer": "ipython3",
   "version": "3.10.10"
  }
 },
 "nbformat": 4,
 "nbformat_minor": 5
}
