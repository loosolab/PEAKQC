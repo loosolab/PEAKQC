{
 "cells": [
  {
   "cell_type": "markdown",
   "id": "3bba5d62",
   "metadata": {},
   "source": [
    "# Experimental FLD scoring "
   ]
  },
  {
   "cell_type": "code",
   "execution_count": 1,
   "id": "c29980b5",
   "metadata": {},
   "source": [
    "import scanpy as sc\n",
    "import numpy as np\n",
    "import pandas as pd\n",
    "\n",
    "from peakqc.fld_scoring import *\n",
    "import peakqc.insertsizes as ins"
   ],
   "outputs": []
  },
  {
   "cell_type": "code",
   "execution_count": 2,
   "id": "a878e6ce",
   "metadata": {},
   "source": [
    "fragments_file = \"/mnt/workspace2/jdetlef/data/public_data/fragments_heart_left_ventricle_194_sorted.bed\"\n",
    "h5ad_file = \"/mnt/workspace2/jdetlef/data/public_data/heart_lv_SM-JF1NY.h5ad\"\n",
    "bamfile = \"/mnt/workspace2/jdetlef/data/public_data/sorted_heart_left_ventricle_194.bam\""
   ],
   "outputs": []
  },
  {
   "cell_type": "code",
   "execution_count": 3,
   "id": "ed20cd45",
   "metadata": {},
   "source": [
    "fragments_file='/mnt/workspace2/jdetlef/repos/PEAK_QC/tests/data/insertsizes_related/fragments_heart_left_ventricle_head_100k.bed'\n",
    "h5ad_file = '/mnt/workspace2/jdetlef/repos/PEAK_QC/tests/data/fld_scoring_related/subsetted_adata.h5ad'\n",
    "bamfile = '/mnt/workspace2/jdetlef/repos/PEAK_QC/tests/data/insertsizes_related/heart_left_ventricle_1mio.bam'"
   ],
   "outputs": []
  },
  {
   "cell_type": "code",
   "execution_count": 4,
   "id": "d8bb6fcb",
   "metadata": {},
   "source": [
    "#fragments_file = \"/mnt/workspace2/jdetlef/repos/PEAK_QC/tests/data/fld_scoring_related/mm10_atac_fragments.bed\"\n",
    "#bamfile = \"/mnt/workspace2/jdetlef/repos/PEAK_QC/tests/data/fld_scoring_related/mm10_atac.bam\"\n",
    "#h5ad_file = \"/mnt/workspace2/jdetlef/repos/PEAK_QC/tests/data/fld_scoring_related/mm10_atac.h5ad\""
   ],
   "outputs": []
  },
  {
   "cell_type": "code",
   "execution_count": 5,
   "id": "910a2805",
   "metadata": {},
   "source": [
    "barcodes = adata.obs.index.to_list()"
   ],
   "outputs": []
  },
  {
   "cell_type": "code",
   "execution_count": 6,
   "id": "22d55816",
   "metadata": {},
   "source": [
    "adata = sc.read_h5ad(h5ad_file)\n",
    "adata_f = adata.copy()\n",
    "adata_b = adata.copy()"
   ],
   "outputs": []
  },
  {
   "cell_type": "code",
   "execution_count": null,
   "id": "19970e24",
   "metadata": {},
   "source": [
    "adata = sc.read_h5ad(h5ad_file)\n",
    "adata_barcodes = adata.obs.index.tolist()\n",
    "\n",
    "# split index for barcodes CBs\n",
    "barcodes = []\n",
    "for entry in adata_barcodes:\n",
    "    barcode = entry.split('+')[1]\n",
    "    barcodes.append(barcode)"
   ],
   "outputs": []
  },
  {
   "cell_type": "code",
   "execution_count": null,
   "id": "e0fdf109",
   "metadata": {},
   "source": [
    "adata.obs['stripped_barcodes'] = barcodes\n",
    "adata.obs = adata.obs.set_index('stripped_barcodes')\n",
    "adata_f = adata.copy()\n",
    "adata_b = adata.copy()"
   ],
   "outputs": []
  },
  {
   "cell_type": "code",
   "execution_count": null,
   "id": "31327e85",
   "metadata": {},
   "source": [
    "adata.var"
   ],
   "outputs": []
  },
  {
   "cell_type": "code",
   "execution_count": null,
   "id": "f879245e",
   "metadata": {},
   "source": [
    "chr_list = adata.var['Chromosome'].unique().to_list()"
   ],
   "outputs": []
  },
  {
   "cell_type": "code",
   "execution_count": null,
   "id": "073d1aae",
   "metadata": {},
   "source": [
    "chr_list"
   ],
   "outputs": []
  },
  {
   "cell_type": "code",
   "execution_count": null,
   "id": "84d9bd31",
   "metadata": {},
   "source": [
    "subset = ['chr1',\n",
    "          'chr2']"
   ],
   "outputs": []
  },
  {
   "cell_type": "code",
   "execution_count": null,
   "id": "07cb01a5",
   "metadata": {},
   "source": [
    "adata_subset = adata[:, adata.var['Chromosome'].isin(subset)].copy()"
   ],
   "outputs": []
  },
  {
   "cell_type": "code",
   "execution_count": null,
   "id": "6eaff782",
   "metadata": {},
   "source": [
    "adata_subset.write('subsetted_adata.h5ad')"
   ],
   "outputs": []
  },
  {
   "cell_type": "code",
   "execution_count": null,
   "id": "2150412a",
   "metadata": {},
   "source": [
    "adata_subset.obs"
   ],
   "outputs": []
  },
  {
   "cell_type": "code",
   "execution_count": null,
   "id": "1c5bff92",
   "metadata": {},
   "source": [],
   "outputs": []
  },
  {
   "cell_type": "code",
   "execution_count": 7,
   "id": "79b53da6",
   "metadata": {},
   "source": [
    "adata_f = add_fld_metrics(adata=adata_f,\n",
    "                        fragments=fragments_file,\n",
    "                        barcode_col=None,\n",
    "                        chunk_size_fragments=5000000,\n",
    "                        peaks_thr=0.5,\n",
    "                        wavelength=150,\n",
    "                        sigma=0.4,\n",
    "                        plot=True,\n",
    "                        save_density=None,\n",
    "                        save_overview=None,\n",
    "                        sample=0,\n",
    "                        n_threads=12)"
   ],
   "outputs": []
  },
  {
   "cell_type": "code",
   "execution_count": 8,
   "id": "3d3b0332",
   "metadata": {},
   "source": [
    "adata_f.obs"
   ],
   "outputs": []
  },
  {
   "cell_type": "code",
   "execution_count": 9,
   "id": "09a3bcae",
   "metadata": {},
   "source": [
    "adata_b = add_fld_metrics(adata=adata_b,\n",
    "                        bam=bamfile,\n",
    "                        barcode_col=None,\n",
    "                        barcode_tag=\"CB\",\n",
    "                        chunk_size_bam=1000000,\n",
    "                        regions=None,\n",
    "                        peaks_thr=0.5,\n",
    "                        wavelength=150,\n",
    "                        sigma=0.4,\n",
    "                        plot=True,\n",
    "                        save_density=None,\n",
    "                        save_overview=None,\n",
    "                        sample=0,\n",
    "                        n_threads=12)"
   ],
   "outputs": []
  },
  {
   "cell_type": "code",
   "execution_count": null,
   "id": "00d3f04f",
   "metadata": {},
   "source": [
    "adata_b.obs"
   ],
   "outputs": []
  },
  {
   "cell_type": "code",
   "execution_count": null,
   "id": "e58ab3c5",
   "metadata": {},
   "source": [
    "\n",
    "def good_modulation():\n",
    "    \"\"\"Create a modulation curve.\"\"\"\n",
    "\n",
    "    mus = [45, 200, 360]\n",
    "    sigs = [45, 55, 100]\n",
    "    divs = [1, 2, 6]\n",
    "\n",
    "    return modulation(mus, sigs, divs)\n",
    "\n",
    "\n",
    "\n",
    "def bad_modulation():\n",
    "    \"\"\"Create a modulation curve.\"\"\"\n",
    "\n",
    "    mus = [45, 100, 360]\n",
    "    sigs = [45, 80, 100]\n",
    "    divs = [1, 8, 10]\n",
    "\n",
    "    return modulation(mus, sigs, divs)\n",
    "\n",
    "\n",
    "def modulation(mus, sigs, divs):\n",
    "    \"\"\"Build a modulation curve.\"\"\"\n",
    "    def gaussian(x, mu, sig):  # Gaussian function\n",
    "        return np.exp(-np.power(x - mu, 2.) / (2 * np.power(sig, 2.)))\n",
    "\n",
    "    curves = []\n",
    "    x_values = np.linspace(0, 1000, 1000)\n",
    "    for mu, sig in [(mus[0], sigs[0]), (mus[1], sigs[1]), (mus[2], sigs[2])]:  # Gaussian curves with different means and standard deviations\n",
    "        curves.append(gaussian(x_values, mu, sig))\n",
    "\n",
    "    curves[1] = curves[1] / divs[0]  # Peak 1\n",
    "    curves[1] = curves[1] / divs[1] # Peak 2\n",
    "    curves[2] = curves[2] / divs[2]  # Bias\n",
    "    sum_c = np.sum(curves, axis=0)  # Sum of the curves\n",
    "\n",
    "    return (sum_c * 100)"
   ],
   "outputs": []
  },
  {
   "cell_type": "code",
   "execution_count": null,
   "id": "fa33fd27",
   "metadata": {},
   "source": [
    "good_modulation = good_modulation()\n",
    "\n",
    "plt.plot(good_modulation)"
   ],
   "outputs": []
  },
  {
   "cell_type": "code",
   "execution_count": null,
   "id": "9df92db1",
   "metadata": {},
   "source": [
    "bad_modulation = bad_modulation()\n",
    "\n",
    "plt.plot(bad_modulation)"
   ],
   "outputs": []
  },
  {
   "cell_type": "code",
   "execution_count": null,
   "id": "3f1aafd7",
   "metadata": {},
   "source": [
    "good_fit = custom_conv(np.array([good_modulation]))\n",
    "good_peaks = call_peaks(good_fit)\n",
    "good_peaks = filter_peaks(good_peaks, reference=good_fit, peaks_thr=150, operator=\"bigger\")\n",
    "good_score = score_mask(good_peaks, good_fit)\n",
    "bad_fit = custom_conv([bad_modulation])\n",
    "bad_peaks = call_peaks(bad_fit)\n",
    "bad_peaks = filter_peaks(bad_peaks, reference=bad_fit, peaks_thr=150, operator=\"bigger\")\n",
    "bad_score = score_mask(bad_peaks, bad_fit)"
   ],
   "outputs": []
  },
  {
   "cell_type": "code",
   "execution_count": null,
   "id": "e2c9cac6",
   "metadata": {},
   "source": [
    "good_score"
   ],
   "outputs": []
  },
  {
   "cell_type": "code",
   "execution_count": null,
   "id": "a0faf8a5",
   "metadata": {},
   "source": [
    "bad_score"
   ],
   "outputs": []
  },
  {
   "cell_type": "code",
   "execution_count": null,
   "id": "c6ffea4c",
   "metadata": {},
   "source": [
    "good_peaks"
   ],
   "outputs": []
  },
  {
   "cell_type": "code",
   "execution_count": null,
   "id": "88113920",
   "metadata": {},
   "source": [
    "good_peaks"
   ],
   "outputs": []
  },
  {
   "cell_type": "code",
   "execution_count": null,
   "id": "53eb8fca",
   "metadata": {},
   "source": [
    "plt.plot(bad_fit[0])"
   ],
   "outputs": []
  },
  {
   "cell_type": "code",
   "execution_count": null,
   "id": "769b98f1",
   "metadata": {},
   "source": [
    "peaks"
   ],
   "outputs": []
  },
  {
   "cell_type": "code",
   "execution_count": null,
   "id": "c3414312",
   "metadata": {},
   "source": [
    "round(wav_1[peaks_1[0][0]] / wav_1[peaks_1[0][1]], 1) == 1"
   ],
   "outputs": []
  },
  {
   "cell_type": "code",
   "execution_count": null,
   "id": "93cfb67a",
   "metadata": {},
   "source": [
    "round(wav_2[peaks_2[0][0]] / wav_2[peaks_2[0][1]], 1) == 0.3"
   ],
   "outputs": []
  },
  {
   "cell_type": "code",
   "execution_count": null,
   "id": "0aed563e",
   "metadata": {},
   "source": [
    "# check for the correct wavelength\n",
    "wav_1 = cos_wavelet(wavelength=100,\n",
    "                amplitude=1.0,\n",
    "                phase_shift=0,\n",
    "                mu=0.0,\n",
    "                sigma=10,\n",
    "                plot=False,\n",
    "                save=None) \n",
    "\n",
    "peaks_1 = call_peaks([wav_1])\n",
    "\n",
    "99 == peaks_1[0][1] - peaks_1[0][0]\n",
    "100 == peaks_1[0][2] - peaks_1[0][1]\n",
    "\n",
    "# check if centered\n",
    "wav_2 = cos_wavelet(wavelength=100,\n",
    "                amplitude=1.0,\n",
    "                phase_shift=0,\n",
    "                mu=0.0,\n",
    "                sigma=0.4,\n",
    "                plot=False,\n",
    "                save=None) \n",
    "\n",
    "peaks_2 = call_peaks([wav_2])\n",
    "np.where(np.max(wav_2) == wav_2)[0][0] == 149 # check if centered\n",
    "\n",
    "# check if sigma scales the cosine \n",
    "round(wav_1[peaks_1[0][0]] / wav_1[peaks_1[0][1]], 1) == 1\n",
    "round(wav_2[peaks_2[0][0]] / wav_2[peaks_2[0][1]], 1) == 0.3\n",
    "\n",
    "# check if its shifting\n",
    "wav_3 = cos_wavelet(wavelength=100,\n",
    "                amplitude=1.0,\n",
    "                phase_shift=np.pi,\n",
    "                mu=0.0,\n",
    "                sigma=10,\n",
    "                plot=False,\n",
    "                save=None) \n",
    "\n",
    "peaks_3 = call_peaks([wav_3])\n",
    "np.where(np.max(wav_3) == wav_3)[0][0] == 100  # half the wavelength shift compared to before\n",
    "\n",
    "\n",
    "wav_4 = cos_wavelet(wavelength=100,\n",
    "                amplitude=1.0,\n",
    "                phase_shift=0,\n",
    "                mu=100,\n",
    "                sigma=0.4,\n",
    "                plot=False,\n",
    "                save=None) \n",
    "\n",
    "peaks_4 = call_peaks([wav_4])\n",
    "np.where(np.max(wav_4) == wav_4)[0][0]  == 249  # one wavelength shift for the gauss curve compared to before"
   ],
   "outputs": []
  },
  {
   "cell_type": "code",
   "execution_count": null,
   "id": "c03bb7ff",
   "metadata": {},
   "source": [
    "wavelength = 100\n",
    "wavl_scale = int(wavelength * 1.5)\n",
    "x = np.linspace(-wavl_scale, wavl_scale, wavl_scale * 2)"
   ],
   "outputs": []
  },
  {
   "cell_type": "code",
   "execution_count": null,
   "id": "e14a3f02",
   "metadata": {},
   "source": [
    "np.where(np.max(wav_3) == wav_3)[0]"
   ],
   "outputs": []
  },
  {
   "cell_type": "code",
   "execution_count": null,
   "id": "fea20878",
   "metadata": {},
   "source": [
    "peaks_3[0][0] == 100\n",
    "peaks_3[0][1] == 199"
   ],
   "outputs": []
  },
  {
   "cell_type": "code",
   "execution_count": null,
   "id": "251a2f79",
   "metadata": {},
   "source": [
    "plt.plot(wav_3)"
   ],
   "outputs": []
  },
  {
   "cell_type": "code",
   "execution_count": null,
   "id": "473cf638",
   "metadata": {},
   "source": [
    "plt.plot(wav_2)"
   ],
   "outputs": []
  },
  {
   "cell_type": "code",
   "execution_count": null,
   "id": "7b8f77b9",
   "metadata": {},
   "source": [
    "len(cosine_curve)"
   ],
   "outputs": []
  },
  {
   "cell_type": "code",
   "execution_count": null,
   "id": "8063123b",
   "metadata": {},
   "source": [
    "sigma = 0.4\n",
    "mu = 0\n",
    "gaussian = (1 / (sigma * np.sqrt(2 * np.pi))) * np.exp(-0.5 * ((x - mu) / sigma) ** 2)\n",
    "wavelet = cosine_curve * gaussian"
   ],
   "outputs": []
  },
  {
   "cell_type": "code",
   "execution_count": null,
   "id": "4d08b309",
   "metadata": {},
   "source": [
    "len(wav)"
   ],
   "outputs": []
  },
  {
   "cell_type": "code",
   "execution_count": null,
   "id": "06a55c88",
   "metadata": {},
   "source": [
    "len(gaussian)"
   ],
   "outputs": []
  },
  {
   "cell_type": "code",
   "execution_count": null,
   "id": "16a38779",
   "metadata": {},
   "source": [
    "len(cosine_curve)"
   ],
   "outputs": []
  },
  {
   "cell_type": "code",
   "execution_count": null,
   "id": "d47ca89b",
   "metadata": {},
   "source": [
    "x = np.linspace(-4, 4, 1000)\n",
    "mu = 0\n",
    "sig = 1\n",
    "gaussian = gauss(x, mu, sig)\n",
    "plt.plot(gaussian)\n",
    "print(gaussian[350])\n",
    "print(gaussian[499])\n",
    "print(gaussian[650])"
   ],
   "outputs": []
  },
  {
   "cell_type": "code",
   "execution_count": null,
   "id": "463c9983",
   "metadata": {},
   "source": [
    "    x = np.linspace(-4, 4, 1000)\n",
    "    mu = 0\n",
    "    sig = 1\n",
    "    gauss = fld.gauss(x, mu, sig)\n",
    "\n",
    "    assert gauss[200] < 0.1\n",
    "    assert gauss[500] == 1\n",
    "    assert gauss[800] < 0.1"
   ],
   "outputs": []
  },
  {
   "cell_type": "code",
   "execution_count": null,
   "id": "83093f7c",
   "metadata": {},
   "source": [],
   "outputs": []
  },
  {
   "cell_type": "code",
   "execution_count": null,
   "id": "66f9124b",
   "metadata": {},
   "source": [],
   "outputs": []
  },
  {
   "cell_type": "code",
   "execution_count": null,
   "id": "41f4799b",
   "metadata": {},
   "source": [],
   "outputs": []
  },
  {
   "cell_type": "code",
   "execution_count": null,
   "id": "cd59cad4",
   "metadata": {},
   "source": [
    "@beartype\n",
    "def gauss(x: npt.ArrayLike,\n",
    "          mu: int | float,\n",
    "          sigma: int | float) -> npt.ArrayLike:\n",
    "    \"\"\"\n",
    "    Calculate the values of the Gaussian function for a given x, mu and sigma.\n",
    "\n",
    "    Parameters\n",
    "    ----------\n",
    "    x : npt.ArrayLike\n",
    "        x values\n",
    "    mu : float\n",
    "        mu value\n",
    "    sigma : float\n",
    "        sigma value\n",
    "\n",
    "    Returns\n",
    "    -------\n",
    "    float\n",
    "        Value of the Gaussian function for the given x, mu and sigma.\n",
    "    \"\"\"\n",
    "\n",
    "    gaussian = (1 / (sigma * np.sqrt(2 * np.pi))) * np.exp(-0.5 * ((x - mu) / sigma) ** 2)\n",
    "    \n",
    "    # scale max to 1\n",
    "    max_val = np.max(gaussian)\n",
    "    scaler = 1/max_val\n",
    "    gaussian = gaussian * scaler\n",
    "\n",
    "    return gaussian"
   ],
   "outputs": []
  },
  {
   "cell_type": "code",
   "execution_count": null,
   "id": "97a7e2bb",
   "metadata": {},
   "source": [
    "mask, pl = build_score_mask(plot=True,\n",
    "                     save=None,\n",
    "                     mu_list=[42, 200, 360, 550],\n",
    "                     sigma_list=[25, 35, 45, 25])\n",
    "mask"
   ],
   "outputs": []
  },
  {
   "cell_type": "code",
   "execution_count": null,
   "id": "8910146b",
   "metadata": {},
   "source": [
    "np.concatenate(call_peaks(mask))"
   ],
   "outputs": []
  },
  {
   "cell_type": "code",
   "execution_count": null,
   "id": "3eccf63e",
   "metadata": {},
   "source": [
    "type(pl[1])"
   ],
   "outputs": []
  },
  {
   "cell_type": "code",
   "execution_count": null,
   "id": "f5b3b99c",
   "metadata": {},
   "source": [
    "x = np.linspace(-1000, 1000, 1000)\n",
    "mu = 10 # Mean of the Gaussian\n",
    "sig = 10 # Standard deviation of the Gaussian\n",
    "gauss_dis = gauss(x, mu, sig)\n",
    "max_val = np.max(gauss_dis)\n",
    "scaler = 1/max_val\n",
    "scaled_gauss = gauss_dis * scaler\n",
    "plt.plot(scaled_gauss)"
   ],
   "outputs": []
  },
  {
   "cell_type": "code",
   "execution_count": null,
   "id": "8e5baadf",
   "metadata": {},
   "source": [
    "def gaussian(x, mu, sig):  # Gaussian function\n",
    "    return np.exp(-np.power(x - mu, 2.) / (2 * np.power(sig, 2.)))\n",
    "\n",
    "curves = []\n",
    "x_values = np.linspace(0, 1000, 1000)\n",
    "for mu, sig in [(45, 45), (200, 50), (360, 30)]:  # Gaussian curves with different means and standard deviations\n",
    "    curves.append(gaussian(x_values, mu, sig))\n",
    "\n",
    "curves[1] = curves[1] / 1  # Peak 1\n",
    "curves[1] = curves[1] / 2  # Peak 2\n",
    "curves[2] = curves[2] / 4  # Bias\n",
    "sum_c = np.sum(curves, axis=0)  # Sum of the curves\n",
    "\n",
    "plt.plot(sum_c*100) "
   ],
   "outputs": []
  },
  {
   "cell_type": "code",
   "execution_count": null,
   "id": "a5b7a3da",
   "metadata": {},
   "source": [
    "amplitude = 1\n",
    "wavelength = 50\n",
    "phase_shift = 0\n",
    "\n",
    "# Scale the wavelength and sigma with the scale\n",
    "wavl_scale = int(wavelength * 1.5)\n",
    "frequency = 1.5 / wavl_scale  # This ensures the frequency is scaled with scale\n",
    "\n",
    "# Create an array of x values\n",
    "x = np.linspace(-wavl_scale, wavl_scale, wavl_scale * 2)\n",
    "\n",
    "cosine_curve = amplitude * np.cos(2 * np.pi * frequency * x + phase_shift)"
   ],
   "outputs": []
  },
  {
   "cell_type": "code",
   "execution_count": null,
   "id": "b17310ff",
   "metadata": {},
   "source": [
    "def cosine(wavelength, amplitude=1, phase_shift=0):\n",
    "    # Scale the wavelength and sigma with the scale\n",
    "    wavl_scale = int(wavelength * 1.5)\n",
    "    frequency = 1.5 / wavl_scale  # This ensures the frequency is scaled with scale\n",
    "\n",
    "    # Create an array of x values\n",
    "    x = np.linspace(-wavl_scale, wavl_scale, wavl_scale * 2)\n",
    "    x = np.arange(0,1000)\n",
    "\n",
    "    return amplitude * np.cos(2 * np.pi * frequency * x + phase_shift)"
   ],
   "outputs": []
  },
  {
   "cell_type": "code",
   "execution_count": null,
   "id": "8b48b80f",
   "metadata": {},
   "source": [
    "plt.plot(cosine(100, 0.1))"
   ],
   "outputs": []
  },
  {
   "cell_type": "code",
   "execution_count": null,
   "id": "9ff78d20",
   "metadata": {},
   "source": [
    "plt.plot(cosine(150,0.5))"
   ],
   "outputs": []
  },
  {
   "cell_type": "code",
   "execution_count": null,
   "id": "e156d806",
   "metadata": {},
   "source": [
    "plt.plot(cosine(75,0.2))"
   ],
   "outputs": []
  },
  {
   "cell_type": "code",
   "execution_count": null,
   "id": "87760947",
   "metadata": {},
   "source": [
    "cosine_modulation = cosine(25, 0.1) + cosine(150,0.5) + cosine(75,0.2) + cosine(100,0.4)\n",
    "plt.plot(cosine_modulation)"
   ],
   "outputs": []
  },
  {
   "cell_type": "code",
   "execution_count": null,
   "id": "59cecf6f",
   "metadata": {},
   "source": [
    "cosine_modulation\n",
    "wavelengths=[25,50,75,100,125,150,175,200]\n",
    "wav_t = wavelet_transform_fld(dists_arr = [cosine_modulation,cosine_modulation], wavelengths=wavelengths)"
   ],
   "outputs": []
  },
  {
   "cell_type": "code",
   "execution_count": null,
   "id": "77e37fe1",
   "metadata": {},
   "source": [
    "plt.plot(wav_t[0][0])"
   ],
   "outputs": []
  },
  {
   "cell_type": "code",
   "execution_count": null,
   "id": "5f4e5090",
   "metadata": {},
   "source": [
    "round(np.mean(np.diff(call_peaks([wav_t[0][0]], distance=1, width=0)))) == 25\n",
    "round(np.mean(np.diff(call_peaks([wav_t[0][2]], distance=1, width=0)))) == 75\n",
    "round(np.mean(np.diff(call_peaks([wav_t[0][4]], distance=1, width=0)))) == 100\n",
    "round(np.mean(np.diff(call_peaks([wav_t[0][6]], distance=1, width=0)))) == 151\n"
   ],
   "outputs": []
  },
  {
   "cell_type": "code",
   "execution_count": null,
   "id": "1fb53269",
   "metadata": {},
   "source": [
    "plot_wavelet_transformation(convolution=(wav_t[0]),\n",
    "                            wavelengths=wavelengths)"
   ],
   "outputs": []
  },
  {
   "cell_type": "code",
   "execution_count": null,
   "id": "3faf8881",
   "metadata": {},
   "source": [
    "plt.plot(wav_t[0][2])"
   ],
   "outputs": []
  },
  {
   "cell_type": "code",
   "execution_count": null,
   "id": "4d5c34d6",
   "metadata": {},
   "source": [
    "gauss(x=np.linspace(-50, 50, 50), mu=10, sigma=10)"
   ],
   "outputs": []
  },
  {
   "cell_type": "code",
   "execution_count": null,
   "id": "449d1617",
   "metadata": {},
   "source": [
    "wavl_scale = 500\n",
    "x = np.linspace(-wavl_scale, wavl_scale, wavl_scale * 2)\n",
    "x"
   ],
   "outputs": []
  },
  {
   "cell_type": "code",
   "execution_count": null,
   "id": "4b662cdd",
   "metadata": {},
   "source": [
    "def good_modulation():\n",
    "    \"\"\"Create a modulation curve.\"\"\"\n",
    "\n",
    "    mus = [45, 200, 360]\n",
    "    sigs = [45, 55, 100]\n",
    "    divs = [1, 2, 6]\n",
    "\n",
    "    return modulation(mus, sigs, divs)\n",
    "\n",
    "\n",
    "def bad_modulation():\n",
    "    \"\"\"Create a modulation curve.\"\"\"\n",
    "\n",
    "    mus = [45, 100, 360]\n",
    "    sigs = [45, 80, 100]\n",
    "    divs = [1, 8, 10]\n",
    "\n",
    "    return modulation(mus, sigs, divs)\n",
    "\n",
    "\n",
    "def modulation(mus, sigs, divs):\n",
    "    \"\"\"Build a modulation curve.\"\"\"\n",
    "    def gaussian(x, mu, sig):  # Gaussian function\n",
    "        return np.exp(-np.power(x - mu, 2.) / (2 * np.power(sig, 2.)))\n",
    "\n",
    "    curves = []\n",
    "    x_values = np.linspace(0, 1000, 1000)\n",
    "    for mu, sig in [(mus[0], sigs[0]), (mus[1], sigs[1]), (mus[2], sigs[2])]:  # Gaussian curves with different means and standard deviations\n",
    "        curves.append(gaussian(x_values, mu, sig))\n",
    "\n",
    "    curves[1] = curves[1] / divs[0]  # Peak 1\n",
    "    curves[1] = curves[1] / divs[1] # Peak 2\n",
    "    curves[2] = curves[2] / divs[2]  # Bias\n",
    "    sum_c = np.sum(curves, axis=0)  # Sum of the curves\n",
    "\n",
    "    return (sum_c * 100)"
   ],
   "outputs": []
  },
  {
   "cell_type": "code",
   "execution_count": null,
   "id": "f749bd3b",
   "metadata": {},
   "source": [
    "good_modulation_arr = good_modulation()\n",
    "bad_modulation_arr = bad_modulation()\n",
    "plt.plot(good_modulation_arr)\n",
    "plt.show()\n",
    "plt.plot(bad_modulation_arr)\n",
    "plt.show()"
   ],
   "outputs": []
  },
  {
   "cell_type": "code",
   "execution_count": null,
   "id": "b06d75e9",
   "metadata": {},
   "source": [
    "call_peaks([good_modulation_arr, bad_modulation_arr])"
   ],
   "outputs": []
  },
  {
   "cell_type": "code",
   "execution_count": null,
   "id": "0972cbde",
   "metadata": {},
   "source": [],
   "outputs": []
  },
  {
   "cell_type": "code",
   "execution_count": null,
   "id": "4ab08ca8",
   "metadata": {},
   "source": [
    "score_mask(good_modulation_arr)"
   ],
   "outputs": []
  },
  {
   "cell_type": "code",
   "execution_count": null,
   "id": "5283e804",
   "metadata": {},
   "source": [],
   "outputs": []
  },
  {
   "cell_type": "code",
   "execution_count": null,
   "id": "bdf6b1cb",
   "metadata": {},
   "source": [],
   "outputs": []
  },
  {
   "cell_type": "code",
   "execution_count": null,
   "id": "1c5c41c9",
   "metadata": {},
   "source": [],
   "outputs": []
  },
  {
   "cell_type": "code",
   "execution_count": null,
   "id": "f8dded06",
   "metadata": {},
   "source": [
    "fragments_file='/mnt/workspace2/jdetlef/repos/PEAK_QC/tests/data/insertsizes_related/fragments_heart_left_ventricle_head_100k.bed'\n",
    "h5ad_file = '/mnt/workspace2/jdetlef/repos/PEAK_QC/tests/data/fld_scoring_related/subsetted_adata.h5ad'\n",
    "bamfile = '/mnt/workspace2/jdetlef/repos/PEAK_QC/tests/data/insertsizes_related/heart_left_ventricle_1mio.bam'\n"
   ],
   "outputs": []
  },
  {
   "cell_type": "code",
   "execution_count": null,
   "id": "489bfc3c",
   "metadata": {},
   "source": [
    "adata = sc.read_h5ad(h5ad_file)\n",
    "barcodes = adata.obs.index.to_list()"
   ],
   "outputs": []
  },
  {
   "cell_type": "code",
   "execution_count": null,
   "id": "d067ea3b",
   "metadata": {},
   "source": [
    "count_table_ori = ins.insertsize_from_bam(bamfile=bamfile,\n",
    "                              barcodes=barcodes)\n",
    "\n",
    "count_table = count_table_ori.copy()"
   ],
   "outputs": []
  },
  {
   "cell_type": "code",
   "execution_count": null,
   "id": "eabcec2d",
   "metadata": {},
   "source": [
    "count_table_ori = ins.insertsize_from_fragments(fragments=fragments_file,\n",
    "                              barcodes=barcodes)\n",
    "\n",
    "count_table = count_table_ori.copy()"
   ],
   "outputs": []
  },
  {
   "cell_type": "code",
   "execution_count": null,
   "id": "0361a346",
   "metadata": {},
   "source": [
    "count_table = count_table_ori.copy()"
   ],
   "outputs": []
  },
  {
   "cell_type": "code",
   "execution_count": null,
   "id": "6699a8eb",
   "metadata": {},
   "source": [
    "means = count_table.pop('mean_insertsize')\n",
    "insert_counts = count_table.pop('insertsize_count')\n",
    "barcodes = count_table.index\n",
    "# Assuming count_table is your DataFrame and you're trying to convert 'dist' column to a numpy array of type int64\n",
    "dists_arr = np.array(count_table['dist'].tolist(), dtype=np.int64)\n",
    "dists_arr"
   ],
   "outputs": []
  },
  {
   "cell_type": "code",
   "execution_count": null,
   "id": "db203f0a",
   "metadata": {},
   "source": [
    "len(count_table['dist'][0])"
   ],
   "outputs": []
  },
  {
   "cell_type": "code",
   "execution_count": null,
   "id": "3faf2cd6",
   "metadata": {},
   "source": [
    "divs = {}\n",
    "for i in range(len(count_table)):\n",
    "    if len(count_table['dist'][i])!=1001:\n",
    "        \n",
    "        print(len(count_table['dist'][i]))\n",
    "        print(i)\n",
    "        \n",
    "        divs[i] = len(count_table['dist'][i])"
   ],
   "outputs": []
  },
  {
   "cell_type": "code",
   "execution_count": null,
   "id": "872ebf3b",
   "metadata": {},
   "source": [
    "i"
   ],
   "outputs": []
  },
  {
   "cell_type": "code",
   "execution_count": null,
   "id": "0747e18e",
   "metadata": {},
   "source": [
    "type(count_table.iloc[i]['dist'])"
   ],
   "outputs": []
  },
  {
   "cell_type": "code",
   "execution_count": null,
   "id": "bfbc7830",
   "metadata": {},
   "source": [
    "count_table = count_table[~pd.isna(count_table['dist'])] # remove nan rows"
   ],
   "outputs": []
  },
  {
   "cell_type": "code",
   "execution_count": null,
   "id": "116fcc65",
   "metadata": {},
   "source": [
    "(count_table['dist']==np.isnan)"
   ],
   "outputs": []
  },
  {
   "cell_type": "code",
   "execution_count": null,
   "id": "9e0bdc95",
   "metadata": {},
   "source": [
    "len(count_table['dist'][4])"
   ],
   "outputs": []
  },
  {
   "cell_type": "code",
   "execution_count": null,
   "id": "9440d772",
   "metadata": {},
   "source": [
    "# --> Remove empty cells"
   ],
   "outputs": []
  },
  {
   "cell_type": "code",
   "execution_count": null,
   "id": "b47c106e",
   "metadata": {},
   "source": [
    "def count_overlap(index1, index2):\n",
    "    \"\"\"\n",
    "    Counts the number of overlapping elements between two indices.\n",
    "    \n",
    "    Parameters:\n",
    "    - index1: Index of the first DataFrame.\n",
    "    - index2: Index of the second DataFrame.\n",
    "    \n",
    "    Returns:\n",
    "    - int: The count of overlapping elements.\n",
    "    \"\"\"\n",
    "    # Convert both indices to sets to ensure unique elements\n",
    "    set1 = set(index1)\n",
    "    set2 = set(index2)\n",
    "    \n",
    "    # Find the intersection of both sets\n",
    "    overlap = set1.intersection(set2)\n",
    "    \n",
    "    # Return the size of the intersection\n",
    "    return len(overlap)"
   ],
   "outputs": []
  },
  {
   "cell_type": "code",
   "execution_count": null,
   "id": "e7b70164",
   "metadata": {},
   "source": [
    "plot = True\n",
    "save_plots = 'density_plot'\n",
    "# plot the densityplot of the fragment length distribution\n",
    "if plot:\n",
    "    print(\"plotting density...\")\n",
    "    density_plot(dists_arr, max_abundance=600, save=save_plots)"
   ],
   "outputs": []
  },
  {
   "cell_type": "code",
   "execution_count": null,
   "id": "d5bd5422",
   "metadata": {},
   "source": [
    "wavelength = 150\n",
    "sigma = 0.4\n",
    "plot=True\n",
    "n_threads=8\n",
    "peaks_thr=0.5\n",
    "save_overview='ov_test'\n",
    "sample=0\n",
    "\n",
    "\n",
    "print(\"calculating scores using the custom continues wavelet transformation...\")\n",
    "conv_scores = score_by_conv(data=dists_arr,\n",
    "                            wavelength=wavelength,\n",
    "                            sigma=sigma,\n",
    "                            plot_wavl=plot,\n",
    "                            n_threads=n_threads,\n",
    "                            peaks_thr=peaks_thr,\n",
    "                            operator='bigger',\n",
    "                            plot_mask=plot,\n",
    "                            plot_ov=plot,\n",
    "                            save=save_overview,\n",
    "                            sample=sample)\n"
   ],
   "outputs": []
  },
  {
   "cell_type": "code",
   "execution_count": null,
   "id": "148bcc75",
   "metadata": {},
   "source": [
    "inserts_df = pd.DataFrame(data={'fld_score':conv_scores,\n",
    "                                'mean_fragment_size': means,\n",
    "                                'n_fragments':insert_counts},\n",
    "                          index=barcodes)\n",
    "\n",
    "inserts_df"
   ],
   "outputs": []
  },
  {
   "cell_type": "code",
   "execution_count": null,
   "id": "450a4454",
   "metadata": {},
   "source": [
    "inserts_df.shape"
   ],
   "outputs": []
  },
  {
   "cell_type": "code",
   "execution_count": null,
   "id": "67bfe94b",
   "metadata": {},
   "source": [
    "adata.obs.shape"
   ],
   "outputs": []
  },
  {
   "cell_type": "code",
   "execution_count": null,
   "id": "e3346956",
   "metadata": {},
   "source": [
    "adata.obs = adata.obs.join(inserts_df)\n",
    "\n",
    "adata.obs['fld_score'] = adata.obs['fld_score'].fillna(0)\n",
    "adata.obs['mean_fragment_size'] = adata.obs['mean_fragment_size'].fillna(0)\n",
    "adata.obs['n_fragments'] = adata.obs['n_fragments'].fillna(0)"
   ],
   "outputs": []
  },
  {
   "cell_type": "code",
   "execution_count": null,
   "id": "76863a67",
   "metadata": {},
   "source": [
    "adata.obs"
   ],
   "outputs": []
  },
  {
   "cell_type": "code",
   "execution_count": null,
   "id": "612b44ff",
   "metadata": {},
   "source": [],
   "outputs": []
  }
 ],
 "metadata": {
  "kernelspec": {
   "display_name": "peakqc",
   "language": "python",
   "name": "peakqc"
  },
  "language_info": {
   "codemirror_mode": {
    "name": "ipython",
    "version": 3
   },
   "file_extension": ".py",
   "mimetype": "text/x-python",
   "name": "python",
   "nbconvert_exporter": "python",
   "pygments_lexer": "ipython3",
   "version": "3.10.10"
  }
 },
 "nbformat": 4,
 "nbformat_minor": 5
}
