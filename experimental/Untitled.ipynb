{
 "cells": [
  {
   "cell_type": "code",
   "execution_count": 1,
   "id": "900b28fb",
   "metadata": {},
   "outputs": [],
   "source": [
    "import insertsizes as counting\n",
    "import episcanpy as epi\n",
    "import pandas as pd"
   ]
  },
  {
   "cell_type": "code",
   "execution_count": 2,
   "id": "65c69332",
   "metadata": {},
   "outputs": [],
   "source": [
    "fragments_file = \"/mnt/workspace2/jdetlef/data/public_data/fragments_heart_left_ventricle_194_sorted.bed\"\n",
    "h5ad_file = \"/mnt/workspace2/jdetlef/data/public_data/heart_lv_SM-JF1NY.h5ad\""
   ]
  },
  {
   "cell_type": "code",
   "execution_count": 3,
   "id": "dc3a00cc",
   "metadata": {},
   "outputs": [],
   "source": [
    "adata = epi.read_h5ad(h5ad_file)"
   ]
  },
  {
   "cell_type": "code",
   "execution_count": 4,
   "id": "618af407",
   "metadata": {},
   "outputs": [],
   "source": [
    "adata_barcodes = adata.obs.index.tolist()"
   ]
  },
  {
   "cell_type": "code",
   "execution_count": 5,
   "id": "75c245ee",
   "metadata": {},
   "outputs": [
    {
     "name": "stdout",
     "output_type": "stream",
     "text": [
      "CPU times: user 2.59 ms, sys: 0 ns, total: 2.59 ms\n",
      "Wall time: 2.6 ms\n"
     ]
    }
   ],
   "source": [
    "%%time\n",
    "# split index for barcodes CBs\n",
    "barcodes = []\n",
    "for entry in adata_barcodes:\n",
    "    barcode = entry.split('+')[1]\n",
    "    barcodes.append(barcode)"
   ]
  },
  {
   "cell_type": "code",
   "execution_count": 6,
   "id": "df8b3f0b",
   "metadata": {},
   "outputs": [
    {
     "name": "stdout",
     "output_type": "stream",
     "text": [
      "Count insertsizes from fragments...\n",
      "Starting counting fragments...\n"
     ]
    },
    {
     "name": "stderr",
     "output_type": "stream",
     "text": [
      "Processing Chunks: 17it [01:08,  4.03s/it]\n"
     ]
    },
    {
     "name": "stdout",
     "output_type": "stream",
     "text": [
      "Done reading file - elapsed time: 0:01:22\n",
      "Converting counts to dataframe...\n",
      "Done getting insertsizes from fragments!\n",
      "                        mean_insertsize  insertsize_count  \\\n",
      "AAATCCGCATAAACGTCCCGTT           200.82              5761   \n",
      "AAATCCGCATAAATGCTACGGG           162.90             15741   \n",
      "AAATCCGCATAACATGAAGCGC           191.14              2638   \n",
      "AAATCCGCATAACCGCTAATGA           174.73              4213   \n",
      "AAATCCGCATAACTTCGACCAG           184.72             17424   \n",
      "...                                 ...               ...   \n",
      "TTCGTCCGACTGCCGTCTCAAC           184.97              3669   \n",
      "TTCGTCCGACTGCGTCGAGTAC           194.13             11340   \n",
      "TTCGTCCGACTTGAGTGCTGTG           186.06              3786   \n",
      "TTCGTCCGACTTTCGAAGAAGG           191.28              5783   \n",
      "TTCGTCCGACTTTGTGTTACCG           188.35              4693   \n",
      "\n",
      "                                                                     dist  \n",
      "AAATCCGCATAAACGTCCCGTT  [0, 0, 0, 0, 0, 0, 0, 0, 1, 1, 1, 0, 1, 0, 1, ...  \n",
      "AAATCCGCATAAATGCTACGGG  [0, 0, 0, 0, 0, 0, 0, 0, 0, 2, 2, 3, 1, 3, 9, ...  \n",
      "AAATCCGCATAACATGAAGCGC  [0, 0, 0, 0, 0, 0, 0, 0, 0, 0, 0, 0, 0, 1, 0, ...  \n",
      "AAATCCGCATAACCGCTAATGA  [0, 0, 0, 0, 0, 0, 0, 0, 0, 0, 1, 1, 0, 0, 2, ...  \n",
      "AAATCCGCATAACTTCGACCAG  [0, 3, 0, 0, 0, 0, 0, 0, 1, 0, 14, 0, 2, 3, 10...  \n",
      "...                                                                   ...  \n",
      "TTCGTCCGACTGCCGTCTCAAC  [0, 0, 0, 0, 0, 0, 0, 0, 0, 0, 0, 0, 0, 0, 0, ...  \n",
      "TTCGTCCGACTGCGTCGAGTAC  [0, 0, 0, 0, 0, 0, 0, 0, 1, 0, 0, 1, 0, 0, 1, ...  \n",
      "TTCGTCCGACTTGAGTGCTGTG  [0, 0, 0, 0, 0, 0, 0, 0, 0, 0, 1, 0, 1, 0, 0, ...  \n",
      "TTCGTCCGACTTTCGAAGAAGG  [0, 0, 0, 0, 0, 0, 0, 0, 0, 0, 0, 0, 0, 0, 1, ...  \n",
      "TTCGTCCGACTTTGTGTTACCG  [0, 0, 0, 0, 0, 0, 0, 0, 0, 0, 0, 0, 0, 0, 0, ...  \n",
      "\n",
      "[9110 rows x 3 columns]\n",
      "CPU times: user 56.9 s, sys: 13.3 s, total: 1min 10s\n",
      "Wall time: 1min 22s\n"
     ]
    }
   ],
   "source": [
    "%%time\n",
    "# counter = counting.MPFragmentCounter()\n",
    "table_mp = counting.insertsize_from_fragments(fragments_file, barcodes, n_threads=10)\n",
    "print(table_mp)"
   ]
  },
  {
   "cell_type": "code",
   "execution_count": 7,
   "id": "02678434",
   "metadata": {},
   "outputs": [
    {
     "name": "stderr",
     "output_type": "stream",
     "text": [
      "Unable to determine R home: [Errno 2] No such file or directory: 'R'\n"
     ]
    }
   ],
   "source": [
    "import sctoolbox.tools as tools"
   ]
  },
  {
   "cell_type": "code",
   "execution_count": 8,
   "id": "f58ea918",
   "metadata": {},
   "outputs": [
    {
     "name": "stdout",
     "output_type": "stream",
     "text": [
      "[INFO] Counting fragment lengths from fragments file...\n",
      "[INFO] Done reading file - elapsed time: 0:04:07\n",
      "[INFO] Converting counts to dataframe...\n",
      "[INFO] Done getting insertsizes from fragments!\n",
      "                        insertsize_count  mean_insertsize  0  1  2  3  4  5  \\\n",
      "AGGGATAAACCACCGAAGGTCA              6999           185.35  0  0  0  0  0  0   \n",
      "AGCGTGTCATTCGCGAGATAGT             18041           183.39  0  4  1  0  0  0   \n",
      "AAATCCGCATGTCCAGATTTCC             15322           174.45  0  0  0  1  0  0   \n",
      "TGATTACGCGCCTTTCCGTATC              3066           174.37  0  0  0  0  0  0   \n",
      "ACCTTCAAGCACTCGTTCCGAT              7780           199.32  0  0  0  0  3  0   \n",
      "...                                  ...              ... .. .. .. .. .. ..   \n",
      "TCGGCTTATTTGGACATACTGG              1985           195.80  0  0  0  0  0  0   \n",
      "CTTCACAGTCCGATATCGATCC              3039           195.34  0  0  0  0  0  0   \n",
      "GCTCTTGGAAGAATCGGTGTTC              1707           210.02  0  0  0  0  0  0   \n",
      "ACCCTTATCTTAGATACATCCC              2162           171.08  0  0  0  0  0  0   \n",
      "ACGTAGCGCAGCTGATCCACCT              3830           178.84  0  0  0  0  0  0   \n",
      "\n",
      "                        6  7  ...  991  992  993  994  995  996  997  998  \\\n",
      "AGGGATAAACCACCGAAGGTCA  0  0  ...    0    0    0    0    0    0    0    0   \n",
      "AGCGTGTCATTCGCGAGATAGT  0  0  ...    0    0    0    0    0    0    0    0   \n",
      "AAATCCGCATGTCCAGATTTCC  0  0  ...    0    0    0    0    0    0    0    0   \n",
      "TGATTACGCGCCTTTCCGTATC  0  0  ...    0    0    0    0    0    0    0    0   \n",
      "ACCTTCAAGCACTCGTTCCGAT  0  0  ...    0    0    0    0    0    0    0    0   \n",
      "...                    .. ..  ...  ...  ...  ...  ...  ...  ...  ...  ...   \n",
      "TCGGCTTATTTGGACATACTGG  0  0  ...    0    0    0    0    0    0    0    0   \n",
      "CTTCACAGTCCGATATCGATCC  0  0  ...    0    0    0    0    0    0    0    0   \n",
      "GCTCTTGGAAGAATCGGTGTTC  0  0  ...    0    0    0    0    0    0    0    0   \n",
      "ACCCTTATCTTAGATACATCCC  0  0  ...    0    0    0    0    0    0    0    0   \n",
      "ACGTAGCGCAGCTGATCCACCT  0  0  ...    0    0    0    0    0    0    0    0   \n",
      "\n",
      "                        999  1000  \n",
      "AGGGATAAACCACCGAAGGTCA    0     0  \n",
      "AGCGTGTCATTCGCGAGATAGT    0     0  \n",
      "AAATCCGCATGTCCAGATTTCC    0     0  \n",
      "TGATTACGCGCCTTTCCGTATC    0     0  \n",
      "ACCTTCAAGCACTCGTTCCGAT    0     0  \n",
      "...                     ...   ...  \n",
      "TCGGCTTATTTGGACATACTGG    0     0  \n",
      "CTTCACAGTCCGATATCGATCC    0     0  \n",
      "GCTCTTGGAAGAATCGGTGTTC    0     0  \n",
      "ACCCTTATCTTAGATACATCCC    0     0  \n",
      "ACGTAGCGCAGCTGATCCACCT    0     0  \n",
      "\n",
      "[9110 rows x 1003 columns]\n",
      "CPU times: user 4min 13s, sys: 2.84 s, total: 4min 16s\n",
      "Wall time: 4min 15s\n"
     ]
    }
   ],
   "source": [
    "%%time\n",
    "table_sctoolbox = tools._insertsize_from_fragments(fragments_file, barcodes)\n",
    "print(table_sctoolbox)"
   ]
  },
  {
   "cell_type": "code",
   "execution_count": 9,
   "id": "a618264f",
   "metadata": {},
   "outputs": [],
   "source": [
    "def get_dist_df(dist):\n",
    "    \n",
    "    table_dict = {}\n",
    "    for row in dist.iterrows():\n",
    "        barcode = str(row[0])\n",
    "        table_dict[barcode] = {}\n",
    "\n",
    "        for i, counts in enumerate(row[1]['dist']):\n",
    "            table_dict[barcode][i] = counts\n",
    "    \n",
    "    dist_df = pd.DataFrame(table_dict).T\n",
    "    \n",
    "    return dist_df"
   ]
  },
  {
   "cell_type": "code",
   "execution_count": 10,
   "id": "c769d355",
   "metadata": {},
   "outputs": [],
   "source": [
    "table_sctoolbox = table_sctoolbox[[c for c in table_sctoolbox.columns if isinstance(c, int)]]\n",
    "table_mp = get_dist_df(table_mp)\n",
    "sorted_sct_table = table_sctoolbox.sort_index()\n",
    "sorted_table_mp = table_mp.sort_index()"
   ]
  },
  {
   "cell_type": "code",
   "execution_count": 11,
   "id": "e0d90b3b",
   "metadata": {},
   "outputs": [
    {
     "data": {
      "text/plain": [
       "True"
      ]
     },
     "execution_count": 11,
     "metadata": {},
     "output_type": "execute_result"
    }
   ],
   "source": [
    "sorted_sct_table.equals(sorted_table_mp)"
   ]
  },
  {
   "cell_type": "code",
   "execution_count": null,
   "id": "55f84524",
   "metadata": {},
   "outputs": [],
   "source": []
  },
  {
   "cell_type": "code",
   "execution_count": null,
   "id": "7c2583fb",
   "metadata": {},
   "outputs": [],
   "source": []
  }
 ],
 "metadata": {
  "kernelspec": {
   "display_name": "dev-sctoolbox",
   "language": "python",
   "name": "dev-sctoolbox"
  },
  "language_info": {
   "codemirror_mode": {
    "name": "ipython",
    "version": 3
   },
   "file_extension": ".py",
   "mimetype": "text/x-python",
   "name": "python",
   "nbconvert_exporter": "python",
   "pygments_lexer": "ipython3",
   "version": "3.10.8"
  }
 },
 "nbformat": 4,
 "nbformat_minor": 5
}
